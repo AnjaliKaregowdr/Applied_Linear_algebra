{
 "cells": [
  {
   "cell_type": "code",
   "execution_count": 14,
   "metadata": {},
   "outputs": [],
   "source": [
    "import numpy as np\n",
    "from sklearn.datasets import make_blobs\n",
    "import matplotlib.pyplot as plt\n",
    "\n",
    "from sklearn.metrics import silhouette_score\n",
    "from sklearn.cluster import KMeans"
   ]
  },
  {
   "cell_type": "code",
   "execution_count": 6,
   "metadata": {},
   "outputs": [
    {
     "data": {
      "image/png": "[encoded data removed]",
      "text/plain": [
       "<Figure size 640x480 with 1 Axes>"
      ]
     },
     "metadata": {},
     "output_type": "display_data"
    }
   ],
   "source": [
    "X, y_true = make_blobs(n_samples=300, centers=4, cluster_std=0.60, random_state=0)\n",
    "plt.scatter(X[:, 0], X[:, 1]);"
   ]
  },
  {
   "cell_type": "code",
   "execution_count": 11,
   "metadata": {},
   "outputs": [
    {
     "name": "stderr",
     "output_type": "stream",
     "text": [
      "c:\\Users\\MSIS\\anaconda3\\envs\\quickstart\\lib\\site-packages\\sklearn\\cluster\\_kmeans.py:1412: FutureWarning: The default value of `n_init` will change from 10 to 'auto' in 1.4. Set the value of `n_init` explicitly to suppress the warning\n",
      "  super()._check_params_vs_input(X, default_n_init=10)\n"
     ]
    },
    {
     "data": {
      "text/html": [
       "<style>#sk-container-id-1 {color: black;}#sk-container-id-1 pre{padding: 0;}#sk-container-id-1 div.sk-toggleable {background-color: white;}#sk-container-id-1 label.sk-toggleable__label {cursor: pointer;display: block;width: 100%;margin-bottom: 0;padding: 0.3em;box-sizing: border-box;text-align: center;}#sk-container-id-1 label.sk-toggleable__label-arrow:before {content: \"▸\";float: left;margin-right: 0.25em;color: #696969;}#sk-container-id-1 label.sk-toggleable__label-arrow:hover:before {color: black;}#sk-container-id-1 div.sk-estimator:hover label.sk-toggleable__label-arrow:before {color: black;}#sk-container-id-1 div.sk-toggleable__content {max-height: 0;max-width: 0;overflow: hidden;text-align: left;background-color: #f0f8ff;}#sk-container-id-1 div.sk-toggleable__content pre {margin: 0.2em;color: black;border-radius: 0.25em;background-color: #f0f8ff;}#sk-container-id-1 input.sk-toggleable__control:checked~div.sk-toggleable__content {max-height: 200px;max-width: 100%;overflow: auto;}#sk-container-id-1 input.sk-toggleable__control:checked~label.sk-toggleable__label-arrow:before {content: \"▾\";}#sk-container-id-1 div.sk-estimator input.sk-toggleable__control:checked~label.sk-toggleable__label {background-color: #d4ebff;}#sk-container-id-1 div.sk-label input.sk-toggleable__control:checked~label.sk-toggleable__label {background-color: #d4ebff;}#sk-container-id-1 input.sk-hidden--visually {border: 0;clip: rect(1px 1px 1px 1px);clip: rect(1px, 1px, 1px, 1px);height: 1px;margin: -1px;overflow: hidden;padding: 0;position: absolute;width: 1px;}#sk-container-id-1 div.sk-estimator {font-family: monospace;background-color: #f0f8ff;border: 1px dotted black;border-radius: 0.25em;box-sizing: border-box;margin-bottom: 0.5em;}#sk-container-id-1 div.sk-estimator:hover {background-color: #d4ebff;}#sk-container-id-1 div.sk-parallel-item::after {content: \"\";width: 100%;border-bottom: 1px solid gray;flex-grow: 1;}#sk-container-id-1 div.sk-label:hover label.sk-toggleable__label {background-color: #d4ebff;}#sk-container-id-1 div.sk-serial::before {content: \"\";position: absolute;border-left: 1px solid gray;box-sizing: border-box;top: 0;bottom: 0;left: 50%;z-index: 0;}#sk-container-id-1 div.sk-serial {display: flex;flex-direction: column;align-items: center;background-color: white;padding-right: 0.2em;padding-left: 0.2em;position: relative;}#sk-container-id-1 div.sk-item {position: relative;z-index: 1;}#sk-container-id-1 div.sk-parallel {display: flex;align-items: stretch;justify-content: center;background-color: white;position: relative;}#sk-container-id-1 div.sk-item::before, #sk-container-id-1 div.sk-parallel-item::before {content: \"\";position: absolute;border-left: 1px solid gray;box-sizing: border-box;top: 0;bottom: 0;left: 50%;z-index: -1;}#sk-container-id-1 div.sk-parallel-item {display: flex;flex-direction: column;z-index: 1;position: relative;background-color: white;}#sk-container-id-1 div.sk-parallel-item:first-child::after {align-self: flex-end;width: 50%;}#sk-container-id-1 div.sk-parallel-item:last-child::after {align-self: flex-start;width: 50%;}#sk-container-id-1 div.sk-parallel-item:only-child::after {width: 0;}#sk-container-id-1 div.sk-dashed-wrapped {border: 1px dashed gray;margin: 0 0.4em 0.5em 0.4em;box-sizing: border-box;padding-bottom: 0.4em;background-color: white;}#sk-container-id-1 div.sk-label label {font-family: monospace;font-weight: bold;display: inline-block;line-height: 1.2em;}#sk-container-id-1 div.sk-label-container {text-align: center;}#sk-container-id-1 div.sk-container {/* jupyter's `normalize.less` sets `[hidden] { display: none; }` but bootstrap.min.css set `[hidden] { display: none !important; }` so we also need the `!important` here to be able to override the default hidden behavior on the sphinx rendered scikit-learn.org. See: https://github.com/scikit-learn/scikit-learn/issues/21755 */display: inline-block !important;position: relative;}#sk-container-id-1 div.sk-text-repr-fallback {display: none;}</style><div id=\"sk-container-id-1\" class=\"sk-top-container\"><div class=\"sk-text-repr-fallback\"><pre>KMeans(n_clusters=4)</pre><b>In a Jupyter environment, please rerun this cell to show the HTML representation or trust the notebook. <br />On GitHub, the HTML representation is unable to render, please try loading this page with nbviewer.org.</b></div><div class=\"sk-container\" hidden><div class=\"sk-item\"><div class=\"sk-estimator sk-toggleable\"><input class=\"sk-toggleable__control sk-hidden--visually\" id=\"sk-estimator-id-1\" type=\"checkbox\" checked><label for=\"sk-estimator-id-1\" class=\"sk-toggleable__label sk-toggleable__label-arrow\">KMeans</label><div class=\"sk-toggleable__content\"><pre>KMeans(n_clusters=4)</pre></div></div></div></div></div>"
      ],
      "text/plain": [
       "KMeans(n_clusters=4)"
      ]
     },
     "execution_count": 11,
     "metadata": {},
     "output_type": "execute_result"
    }
   ],
   "source": [
    "kmeans=KMeans(n_clusters=4)\n",
    "kmeans.fit(X)"
   ]
  },
  {
   "cell_type": "code",
   "execution_count": 12,
   "metadata": {},
   "outputs": [
    {
     "name": "stdout",
     "output_type": "stream",
     "text": [
      "[[ 0.94973532  4.41906906]\n",
      " [-1.37324398  7.75368871]\n",
      " [ 1.98258281  0.86771314]\n",
      " [-1.58438467  2.83081263]]\n",
      "[2 1 0 1 2 2 3 0 1 1 3 1 0 1 2 0 0 2 3 3 2 2 0 3 3 0 2 0 3 0 1 1 0 1 1 1 1\n",
      " 1 3 2 0 3 0 0 3 3 1 3 1 2 3 2 1 2 2 3 1 3 1 2 1 0 1 3 3 3 1 2 1 3 0 3 1 3\n",
      " 3 1 3 0 2 1 2 0 2 2 1 0 2 0 1 1 0 2 1 3 3 0 2 2 0 3 1 2 1 2 0 2 2 0 1 0 3\n",
      " 3 2 1 2 0 1 2 2 0 3 2 3 2 2 2 2 3 2 3 1 3 3 2 1 3 3 1 0 1 1 3 0 3 0 3 1 0\n",
      " 1 1 1 0 1 0 2 3 1 3 2 0 1 0 0 2 0 3 3 0 2 0 0 1 2 0 3 1 2 2 0 3 2 0 3 3 0\n",
      " 0 0 0 2 1 0 3 0 0 3 3 3 0 3 1 0 3 2 3 0 1 3 1 0 1 0 3 0 0 1 3 3 2 2 0 1 2\n",
      " 2 3 2 3 0 1 1 0 0 1 0 2 3 0 2 3 1 3 2 0 2 1 1 1 1 3 3 1 0 3 2 0 3 3 3 2 2\n",
      " 1 0 0 3 2 1 3 0 1 0 2 2 3 3 0 2 2 2 0 1 1 2 2 0 2 2 2 1 3 1 0 2 2 1 1 1 2\n",
      " 2 0 1 3]\n"
     ]
    }
   ],
   "source": [
    "print(kmeans.cluster_centers_)\n",
    "print(kmeans.labels_)"
   ]
  },
  {
   "cell_type": "markdown",
   "metadata": {},
   "source": [
    "KMEANS FROM SCRATCH"
   ]
  },
  {
   "cell_type": "code",
   "execution_count": 17,
   "metadata": {},
   "outputs": [
    {
     "name": "stdout",
     "output_type": "stream",
     "text": [
      "record count is 300\n"
     ]
    },
    {
     "data": {
      "text/plain": [
       "array([203, 266, 152,   9, 233, 226, 196, 109,   5, 175, 237,  57, 218,\n",
       "        45, 182, 221, 289, 211, 148, 165,  78, 113, 249, 250, 104,  42,\n",
       "       281, 295, 157, 238,  17, 164,  33,  24, 215, 119,   7,  90,  46,\n",
       "        73,  93,  76, 286,  60,  77,  63, 234, 229, 111, 231, 180, 144,\n",
       "       239,  75, 297, 278,  97,  92, 192,  25, 232,  59,   6, 185, 173,\n",
       "        30,  22, 256,  56, 186, 108, 126, 230, 193, 129, 282,  82,  84,\n",
       "        66, 288, 163, 154,  19, 124,  79, 114, 118,  72,  15,  10, 194,\n",
       "       101,  68, 224,  37,  16, 179, 147, 274,  67, 228,  69,  31, 183,\n",
       "       265, 225, 140,  18, 181,  96, 132, 262,  86, 248, 245, 116, 146,\n",
       "       292, 197, 206,  55, 172, 184, 167, 139, 253,  38, 125, 195, 283,\n",
       "       137, 112, 168, 117, 277, 271, 155, 176, 178,   2, 115, 143, 177,\n",
       "       120, 210, 260, 127,  74,  29,  83, 269, 107, 223, 158, 280, 246,\n",
       "       222,  65, 198,  85, 213, 159,  12,  35,  28, 142, 284, 254, 170,\n",
       "        51,  95, 208, 247,  41,  89, 244, 136,  26, 293, 141, 200,   0,\n",
       "       268, 272, 100, 259, 255, 171,  98,  36,  61, 150, 236, 202, 242,\n",
       "        11, 296, 267,  27, 219,   4, 122,  32, 204, 162, 209, 285, 138,\n",
       "        62, 135, 128, 290,   8,  70, 264,  64,  44, 279, 156,  40, 123,\n",
       "       275, 216, 153,  23, 261, 110,  81, 207, 212,  39, 240, 291, 258,\n",
       "       199,  14,  47,  94, 263, 227, 273, 201, 161,  43, 217, 145, 190,\n",
       "       220, 251,   3, 105,  53, 133,   1, 131, 103,  49,  80, 205,  34,\n",
       "        91,  52, 241,  13,  88, 166, 294, 134, 287, 243,  54,  50, 174,\n",
       "       189, 298, 187, 169,  58,  48, 235, 252,  21, 160, 276, 191, 257,\n",
       "       149, 130, 151,  99,  87, 214, 121, 299,  20, 188,  71, 106, 270,\n",
       "       102])"
      ]
     },
     "execution_count": 17,
     "metadata": {},
     "output_type": "execute_result"
    }
   ],
   "source": [
    "rnd = np.random.RandomState(42)\n",
    "record_count = X.shape[0]\n",
    "print(f\"record count is {record_count}\")\n",
    "all_indices=rnd.permutation(record_count)\n",
    "all_indices"
   ]
  },
  {
   "cell_type": "code",
   "execution_count": 27,
   "metadata": {},
   "outputs": [
    {
     "data": {
      "text/plain": [
       "array([[-1.80701134,  2.06773859],\n",
       "       [ 1.4949318 ,  3.85848832],\n",
       "       [-0.60133739,  6.29994922],\n",
       "       [-0.71109961,  8.66043846]])"
      ]
     },
     "execution_count": 27,
     "metadata": {},
     "output_type": "execute_result"
    }
   ],
   "source": [
    "clusters_count=X[all_indices[:4]]\n",
    "clusters_count"
   ]
  },
  {
   "cell_type": "code",
   "execution_count": 62,
   "metadata": {},
   "outputs": [],
   "source": [
    "def get_random_centroids(X, clusters_count):\n",
    "    rnd = np.random.RandomState(42)\n",
    "    record_count = X.shape[0]\n",
    "    permutations = rnd.permutation(record_count)\n",
    "    random_centroids_idx = permutations[:clusters_count]\n",
    "    return X[random_centroids_idx]"
   ]
  },
  {
   "cell_type": "code",
   "execution_count": 63,
   "metadata": {},
   "outputs": [
    {
     "data": {
      "text/plain": [
       "array([[-1.80701134,  2.06773859],\n",
       "       [ 1.4949318 ,  3.85848832],\n",
       "       [-0.60133739,  6.29994922],\n",
       "       [-0.71109961,  8.66043846]])"
      ]
     },
     "execution_count": 63,
     "metadata": {},
     "output_type": "execute_result"
    }
   ],
   "source": [
    "num_clusters=4\n",
    "centroids = get_random_centroids(X,4)\n",
    "centroids"
   ]
  },
  {
   "cell_type": "code",
   "execution_count": 64,
   "metadata": {},
   "outputs": [],
   "source": [
    "from sklearn.metrics import pairwise_distances\n",
    "from sklearn.metrics import pairwise_distances_argmin"
   ]
  },
  {
   "cell_type": "code",
   "execution_count": 65,
   "metadata": {},
   "outputs": [
    {
     "data": {
      "text/plain": [
       "array([[2.64475855, 1.84358095, 4.40498388, 6.70520522],\n",
       "       [5.35634748, 4.59025646, 1.37522411, 1.43461742],\n",
       "       [4.23875818, 1.28678433, 2.12750139, 4.0202685 ],\n",
       "       ...,\n",
       "       [3.33713735, 1.25456703, 2.04793782, 4.28185545],\n",
       "       [6.12323723, 4.09049147, 1.77933415, 1.38686325],\n",
       "       [0.68210773, 3.46840534, 3.74444601, 6.00869115]])"
      ]
     },
     "execution_count": 65,
     "metadata": {},
     "output_type": "execute_result"
    }
   ],
   "source": [
    "blob_centroid_dists = pairwise_distances(X , centroids)\n",
    "blob_centroid_dists"
   ]
  },
  {
   "cell_type": "code",
   "execution_count": 66,
   "metadata": {},
   "outputs": [
    {
     "data": {
      "text/plain": [
       "array([1, 2, 1, 3, 1, 1, 0, 1, 3, 3, 0, 3, 1, 2, 0, 1, 1, 1, 0, 0, 1, 1,\n",
       "       1, 0, 0, 2, 1, 1, 0, 1, 3, 2, 1, 2, 3, 3, 3, 3, 0, 1, 1, 0, 2, 1,\n",
       "       0, 0, 3, 0, 3, 1, 0, 1, 3, 1, 1, 0, 3, 0, 3, 1, 2, 1, 3, 0, 0, 0,\n",
       "       3, 1, 3, 0, 1, 0, 3, 0, 0, 3, 0, 1, 1, 3, 0, 1, 1, 1, 3, 1, 1, 1,\n",
       "       2, 3, 1, 1, 3, 0, 0, 1, 1, 1, 2, 0, 3, 0, 3, 1, 1, 1, 1, 1, 2, 1,\n",
       "       0, 0, 1, 3, 1, 1, 3, 1, 1, 2, 0, 1, 0, 1, 1, 1, 1, 0, 1, 0, 3, 0,\n",
       "       0, 1, 2, 0, 0, 3, 1, 2, 3, 0, 1, 0, 1, 0, 2, 1, 2, 3, 3, 1, 2, 1,\n",
       "       1, 0, 3, 0, 1, 1, 3, 1, 1, 1, 1, 0, 0, 2, 1, 1, 1, 3, 1, 1, 0, 3,\n",
       "       1, 1, 1, 0, 1, 1, 0, 0, 1, 1, 1, 1, 1, 2, 1, 0, 1, 1, 0, 0, 0, 1,\n",
       "       0, 3, 1, 0, 1, 0, 1, 2, 0, 3, 1, 2, 1, 0, 1, 1, 3, 0, 0, 1, 1, 1,\n",
       "       3, 1, 1, 0, 1, 0, 1, 2, 3, 1, 1, 3, 1, 0, 0, 1, 1, 0, 3, 0, 1, 1,\n",
       "       1, 3, 3, 2, 3, 0, 0, 2, 1, 0, 1, 1, 0, 0, 1, 1, 1, 3, 1, 1, 0, 1,\n",
       "       3, 0, 1, 3, 2, 1, 1, 0, 0, 1, 1, 1, 1, 1, 3, 3, 1, 1, 1, 1, 1, 1,\n",
       "       2, 0, 3, 1, 1, 1, 2, 3, 3, 1, 1, 1, 3, 0], dtype=int64)"
      ]
     },
     "execution_count": 66,
     "metadata": {},
     "output_type": "execute_result"
    }
   ],
   "source": [
    "np.argmin(blob_centroid_dists, axis=1)"
   ]
  },
  {
   "cell_type": "code",
   "execution_count": 67,
   "metadata": {},
   "outputs": [
    {
     "data": {
      "text/plain": [
       "array([1, 2, 1, 3, 1, 1, 0, 1, 3, 3, 0, 3, 1, 2, 0, 1, 1, 1, 0, 0, 1, 1,\n",
       "       1, 0, 0, 2, 1, 1, 0, 1, 3, 2, 1, 2, 3, 3, 3, 3, 0, 1, 1, 0, 2, 1,\n",
       "       0, 0, 3, 0, 3, 1, 0, 1, 3, 1, 1, 0, 3, 0, 3, 1, 2, 1, 3, 0, 0, 0,\n",
       "       3, 1, 3, 0, 1, 0, 3, 0, 0, 3, 0, 1, 1, 3, 0, 1, 1, 1, 3, 1, 1, 1,\n",
       "       2, 3, 1, 1, 3, 0, 0, 1, 1, 1, 2, 0, 3, 0, 3, 1, 1, 1, 1, 1, 2, 1,\n",
       "       0, 0, 1, 3, 1, 1, 3, 1, 1, 2, 0, 1, 0, 1, 1, 1, 1, 0, 1, 0, 3, 0,\n",
       "       0, 1, 2, 0, 0, 3, 1, 2, 3, 0, 1, 0, 1, 0, 2, 1, 2, 3, 3, 1, 2, 1,\n",
       "       1, 0, 3, 0, 1, 1, 3, 1, 1, 1, 1, 0, 0, 2, 1, 1, 1, 3, 1, 1, 0, 3,\n",
       "       1, 1, 1, 0, 1, 1, 0, 0, 1, 1, 1, 1, 1, 2, 1, 0, 1, 1, 0, 0, 0, 1,\n",
       "       0, 3, 1, 0, 1, 0, 1, 2, 0, 3, 1, 2, 1, 0, 1, 1, 3, 0, 0, 1, 1, 1,\n",
       "       3, 1, 1, 0, 1, 0, 1, 2, 3, 1, 1, 3, 1, 0, 0, 1, 1, 0, 3, 0, 1, 1,\n",
       "       1, 3, 3, 2, 3, 0, 0, 2, 1, 0, 1, 1, 0, 0, 1, 1, 1, 3, 1, 1, 0, 1,\n",
       "       3, 0, 1, 3, 2, 1, 1, 0, 0, 1, 1, 1, 1, 1, 3, 3, 1, 1, 1, 1, 1, 1,\n",
       "       2, 0, 3, 1, 1, 1, 2, 3, 3, 1, 1, 1, 3, 0], dtype=int64)"
      ]
     },
     "execution_count": 67,
     "metadata": {},
     "output_type": "execute_result"
    }
   ],
   "source": [
    "clusters_memberships = pairwise_distances_argmin(X, centroids)\n",
    "clusters_memberships"
   ]
  },
  {
   "cell_type": "code",
   "execution_count": 68,
   "metadata": {},
   "outputs": [
    {
     "data": {
      "text/plain": [
       "array([False, False, False, False, False, False,  True, False, False,\n",
       "       False,  True, False, False, False,  True, False, False, False,\n",
       "        True,  True, False, False, False,  True,  True, False, False,\n",
       "       False,  True, False, False, False, False, False, False, False,\n",
       "       False, False,  True, False, False,  True, False, False,  True,\n",
       "        True, False,  True, False, False,  True, False, False, False,\n",
       "       False,  True, False,  True, False, False, False, False, False,\n",
       "        True,  True,  True, False, False, False,  True, False,  True,\n",
       "       False,  True,  True, False,  True, False, False, False,  True,\n",
       "       False, False, False, False, False, False, False, False, False,\n",
       "       False, False, False,  True,  True, False, False, False, False,\n",
       "        True, False,  True, False, False, False, False, False, False,\n",
       "       False, False,  True,  True, False, False, False, False, False,\n",
       "       False, False, False,  True, False,  True, False, False, False,\n",
       "       False,  True, False,  True, False,  True,  True, False, False,\n",
       "        True,  True, False, False, False, False,  True, False,  True,\n",
       "       False,  True, False, False, False, False, False, False, False,\n",
       "       False, False,  True, False,  True, False, False, False, False,\n",
       "       False, False, False,  True,  True, False, False, False, False,\n",
       "       False, False, False,  True, False, False, False, False,  True,\n",
       "       False, False,  True,  True, False, False, False, False, False,\n",
       "       False, False,  True, False, False,  True,  True,  True, False,\n",
       "        True, False, False,  True, False,  True, False, False,  True,\n",
       "       False, False, False, False,  True, False, False, False,  True,\n",
       "        True, False, False, False, False, False, False,  True, False,\n",
       "        True, False, False, False, False, False, False, False,  True,\n",
       "        True, False, False,  True, False,  True, False, False, False,\n",
       "       False, False, False, False,  True,  True, False, False,  True,\n",
       "       False, False,  True,  True, False, False, False, False, False,\n",
       "       False,  True, False, False,  True, False, False, False, False,\n",
       "       False,  True,  True, False, False, False, False, False, False,\n",
       "       False, False, False, False, False, False, False, False,  True,\n",
       "       False, False, False, False, False, False, False, False, False,\n",
       "       False, False,  True])"
      ]
     },
     "execution_count": 68,
     "metadata": {},
     "output_type": "execute_result"
    }
   ],
   "source": [
    "clusters_memberships == 0"
   ]
  },
  {
   "cell_type": "code",
   "execution_count": 69,
   "metadata": {},
   "outputs": [
    {
     "data": {
      "text/plain": [
       "array([[-1.80822253,  1.59701749],\n",
       "       [-1.71237268,  2.77780226],\n",
       "       [ 1.45513831, -0.029199  ],\n",
       "       [-1.0669061 ,  3.13165795],\n",
       "       [-1.07859101,  2.20451529],\n",
       "       [-1.99648151,  2.85164868],\n",
       "       [-1.91828017,  2.60516867],\n",
       "       [-2.88024255,  2.30437816],\n",
       "       [-2.2029995 ,  2.47947561],\n",
       "       [-1.98539037,  2.05520738],\n",
       "       [-1.70200643,  2.46098693],\n",
       "       [-1.02192525,  2.76820711],\n",
       "       [-1.55220688,  2.74574995],\n",
       "       [-1.94972418,  3.4838387 ],\n",
       "       [-1.11064012,  2.8221382 ],\n",
       "       [-1.14091533,  1.97550822],\n",
       "       [-1.03819212,  2.95323761],\n",
       "       [-2.10956676,  3.10677258],\n",
       "       [-1.18652985,  2.7842772 ],\n",
       "       [-1.49720702,  3.21418433],\n",
       "       [-0.4872713 ,  3.32858293],\n",
       "       [-1.60496819,  2.9742542 ],\n",
       "       [-1.50372568,  1.9238532 ],\n",
       "       [-1.7578319 ,  2.97449321],\n",
       "       [ 1.25471244,  0.08963316],\n",
       "       [-1.74572014,  3.01190457],\n",
       "       [-1.17979111,  3.12767494],\n",
       "       [-3.12240736,  3.28167398],\n",
       "       [ 1.66909648, -0.43637823],\n",
       "       [-1.06295223,  2.20755388],\n",
       "       [-1.60712495,  3.56452854],\n",
       "       [-0.53802305,  3.01641891],\n",
       "       [-1.01214966,  3.60254338],\n",
       "       [-1.35863899,  2.32200809],\n",
       "       [-1.73896306,  1.94799775],\n",
       "       [-1.63793622,  2.43329317],\n",
       "       [-1.68754414,  2.24107546],\n",
       "       [-1.25245465,  2.33911505],\n",
       "       [-2.39482483,  3.39806103],\n",
       "       [-1.04656513,  2.96483837],\n",
       "       [-1.62150422,  4.27191636],\n",
       "       [-1.7640414 ,  2.22222995],\n",
       "       [-1.03395259,  2.92105785],\n",
       "       [-1.88609638,  2.24834407],\n",
       "       [-2.63274574,  2.63109786],\n",
       "       [-0.96107636,  1.27407596],\n",
       "       [-1.32356154,  4.1305084 ],\n",
       "       [-0.96779499,  3.12186125],\n",
       "       [-2.22131717,  2.73050691],\n",
       "       [-1.57846247,  3.03445802],\n",
       "       [-1.00140436,  2.84881778],\n",
       "       [-2.11821046,  2.03478126],\n",
       "       [-1.3621942 ,  2.38333321],\n",
       "       [-2.78366586,  2.99211541],\n",
       "       [-1.93960658,  2.18943582],\n",
       "       [-0.96920095,  3.26721702],\n",
       "       [-1.80701134,  2.06773859],\n",
       "       [-1.56387985,  2.8534991 ],\n",
       "       [-1.64129611,  2.68097255],\n",
       "       [-0.7081849 ,  2.50421275],\n",
       "       [-0.88579837,  2.64585078],\n",
       "       [-2.58043836,  3.18844294],\n",
       "       [-2.58802708,  3.13117134],\n",
       "       [ 0.89349964,  1.01093082],\n",
       "       [-1.10782972,  2.92014479],\n",
       "       [-1.24902582,  3.08533972],\n",
       "       [-1.86849125,  3.07982487],\n",
       "       [-1.65104622,  3.44598961],\n",
       "       [-1.30440901,  3.00311934],\n",
       "       [-1.53631328,  3.01443916],\n",
       "       [-1.8146975 ,  3.29009724],\n",
       "       [-1.93731055,  3.91361274],\n",
       "       [-2.15968109,  3.41003096],\n",
       "       [-1.00552592,  3.0840054 ],\n",
       "       [-2.5457675 ,  3.15025055],\n",
       "       [-1.95866665,  2.43008647],\n",
       "       [-0.64695678,  3.42941343],\n",
       "       [-1.79145759,  2.74966896]])"
      ]
     },
     "execution_count": 69,
     "metadata": {},
     "output_type": "execute_result"
    }
   ],
   "source": [
    "X[clusters_memberships==0]"
   ]
  },
  {
   "cell_type": "code",
   "execution_count": 70,
   "metadata": {},
   "outputs": [],
   "source": [
    "clusters = [X[clusters_memberships == i] for i in range(0,num_clusters)]    #list comprehensial : newlist = [expression for item in iterable if condition == True]"
   ]
  },
  {
   "cell_type": "code",
   "execution_count": 52,
   "metadata": {},
   "outputs": [],
   "source": [
    "#python code for list comprehensial\n",
    "# clusters=[]\n",
    "# for i in range(0, num_clusters):\n",
    "#     clusters.append(X[clusters_memberships == i])"
   ]
  },
  {
   "cell_type": "code",
   "execution_count": 71,
   "metadata": {},
   "outputs": [
    {
     "data": {
      "text/plain": [
       "4"
      ]
     },
     "execution_count": 71,
     "metadata": {},
     "output_type": "execute_result"
    }
   ],
   "source": [
    "len(clusters)"
   ]
  },
  {
   "cell_type": "code",
   "execution_count": 73,
   "metadata": {},
   "outputs": [
    {
     "data": {
      "text/plain": [
       "array([[-1.4479679 ,  2.67943972],\n",
       "       [ 1.51048535,  2.61301097],\n",
       "       [-1.01071499,  6.59003095],\n",
       "       [-1.37557521,  8.0286294 ]])"
      ]
     },
     "execution_count": 73,
     "metadata": {},
     "output_type": "execute_result"
    }
   ],
   "source": [
    "new_centroids = np.array([X[clusters_memberships==i].mean(axis=0) for i in range(0, num_clusters)])\n",
    "new_centroids"
   ]
  },
  {
   "cell_type": "code",
   "execution_count": 72,
   "metadata": {},
   "outputs": [
    {
     "data": {
      "text/plain": [
       "array([[False, False],\n",
       "       [False, False],\n",
       "       [False, False],\n",
       "       [False, False]])"
      ]
     },
     "execution_count": 72,
     "metadata": {},
     "output_type": "execute_result"
    }
   ],
   "source": [
    "centroids == new_centroids"
   ]
  },
  {
   "cell_type": "code",
   "execution_count": 74,
   "metadata": {},
   "outputs": [
    {
     "data": {
      "text/plain": [
       "array([[ True,  True],\n",
       "       [ True, False],\n",
       "       [False,  True],\n",
       "       [False, False]])"
      ]
     },
     "execution_count": 74,
     "metadata": {},
     "output_type": "execute_result"
    }
   ],
   "source": [
    "(centroids - new_centroids) < 1e-8"
   ]
  },
  {
   "cell_type": "code",
   "execution_count": 80,
   "metadata": {},
   "outputs": [],
   "source": [
    "def kmeans(X, num_clusters=4):\n",
    "    centroids = get_random_centroids(X, clusters_count=num_clusters)\n",
    "    iter_idx = 1\n",
    "    while True:\n",
    "        print(f\" Iter idx = {iter_idx}\")\n",
    "        clusters_memberships = pairwise_distances_argmin(X, centroids)\n",
    "        new_centroids = np.array([X[clusters_memberships == i].mean(axis=0) for i in range(0, num_clusters)])\n",
    "\n",
    "        if np.all(centroids == new_centroids):\n",
    "            break\n",
    "\n",
    "        centroids = new_centroids\n",
    "        iter_idx +=1\n",
    "\n",
    "    return centroids\n",
    "\n"
   ]
  },
  {
   "cell_type": "code",
   "execution_count": 81,
   "metadata": {},
   "outputs": [
    {
     "name": "stdout",
     "output_type": "stream",
     "text": [
      " Iter idx = 1\n",
      " Iter idx = 2\n",
      " Iter idx = 3\n",
      " Iter idx = 4\n",
      " Iter idx = 5\n",
      " Iter idx = 6\n"
     ]
    },
    {
     "data": {
      "text/plain": [
       "array([[-1.58438467,  2.83081263],\n",
       "       [ 1.98258281,  0.86771314],\n",
       "       [ 0.94973532,  4.41906906],\n",
       "       [-1.37324398,  7.75368871]])"
      ]
     },
     "execution_count": 81,
     "metadata": {},
     "output_type": "execute_result"
    }
   ],
   "source": [
    "kmeans(X, 4)"
   ]
  },
  {
   "cell_type": "markdown",
   "metadata": {},
   "source": [
    "GRAM_SCHMIDT\n"
   ]
  },
  {
   "cell_type": "code",
   "execution_count": 82,
   "metadata": {},
   "outputs": [],
   "source": [
    "import numpy as np"
   ]
  },
  {
   "cell_type": "code",
   "execution_count": 111,
   "metadata": {},
   "outputs": [],
   "source": [
    "vectors = np.array(\n",
    "    [[0,0,4],\n",
    "    [0,1,1],\n",
    "    [1,1,1]]\n",
    ")"
   ]
  },
  {
   "cell_type": "code",
   "execution_count": 112,
   "metadata": {},
   "outputs": [],
   "source": [
    "q1 = vectors[0]"
   ]
  },
  {
   "cell_type": "code",
   "execution_count": 113,
   "metadata": {},
   "outputs": [
    {
     "data": {
      "text/plain": [
       "array([0., 0., 1.])"
      ]
     },
     "execution_count": 113,
     "metadata": {},
     "output_type": "execute_result"
    }
   ],
   "source": [
    "q1_normalised = q1/np.linalg.norm(q1)\n",
    "q1_normalised"
   ]
  },
  {
   "cell_type": "code",
   "execution_count": 114,
   "metadata": {},
   "outputs": [],
   "source": [
    "basis = []\n",
    "basis.append(q1_normalised)"
   ]
  },
  {
   "cell_type": "code",
   "execution_count": 118,
   "metadata": {},
   "outputs": [],
   "source": [
    "q2 = vectors[1] - np.dot(q1_normalised, vectors[1]) * q1_normalised\n",
    "if np.linalg.norm(q2) < 1e-7:\n",
    "    print(\"q2 is dependent on q1\")\n",
    "\n",
    "else:\n",
    "    q2_normalised = q2/np.linalg.norm(q2)\n",
    "    basis.append(q2_normalised)\n",
    "    q2_normalised"
   ]
  },
  {
   "cell_type": "code",
   "execution_count": 119,
   "metadata": {},
   "outputs": [
    {
     "data": {
      "text/plain": [
       "[array([0., 0., 1.]),\n",
       " array([0., 1., 0.]),\n",
       " array([0., 1., 0.]),\n",
       " array([0., 1., 0.])]"
      ]
     },
     "execution_count": 119,
     "metadata": {},
     "output_type": "execute_result"
    }
   ],
   "source": [
    "basis"
   ]
  },
  {
   "cell_type": "code",
   "execution_count": 128,
   "metadata": {},
   "outputs": [],
   "source": [
    "q3 = vectors[2] - \\\n",
    "    np.dot(q1_normalised, vectors[2]) * q1_normalised -\\\n",
    "    np.dot(q2_normalised, vectors[2]) * q2_normalised\n",
    "\n",
    "if np.linalg.norm(q3) < 1e-7:\n",
    "    print(\"q3 is dependent on q1 and/or q2\")\n",
    "\n",
    "else:\n",
    "    q3_normalised= q3/np.linalg.norm(q3)\n",
    "    basis.append(q3_normalised)\n",
    "    q3_normalised"
   ]
  },
  {
   "cell_type": "code",
   "execution_count": 129,
   "metadata": {},
   "outputs": [
    {
     "data": {
      "text/plain": [
       "[array([0., 0., 1.]),\n",
       " array([0., 1., 0.]),\n",
       " array([0., 1., 0.]),\n",
       " array([0., 1., 0.]),\n",
       " array([0.70710678, 0.70710678, 0.        ]),\n",
       " array([0.70710678, 0.70710678, 0.        ]),\n",
       " array([1., 0., 0.]),\n",
       " array([1., 0., 0.])]"
      ]
     },
     "execution_count": 129,
     "metadata": {},
     "output_type": "execute_result"
    }
   ],
   "source": [
    "basis"
   ]
  },
  {
   "cell_type": "code",
   "execution_count": 134,
   "metadata": {},
   "outputs": [],
   "source": [
    "def gram_schmidt(vectors):\n",
    "    basis=[]\n",
    "    for ai in vectors:\n",
    "        qnew = ai - np.sum(np.dot(ai,qj) * qj for qj in basis) #deprecated in numpy\n",
    "        norm=np.linalg.norm(qnew)\n",
    "        if(norm>1e-10):\n",
    "            basis.append(qnew/norm)\n",
    "        else:\n",
    "            raise Exception(f'vector {ai} is linearly dependent on others')\n",
    "            break\n",
    "    return np.array(basis)"
   ]
  },
  {
   "cell_type": "code",
   "execution_count": 131,
   "metadata": {},
   "outputs": [
    {
     "name": "stderr",
     "output_type": "stream",
     "text": [
      "C:\\Users\\MSIS\\AppData\\Local\\Temp\\ipykernel_1236\\1581149468.py:4: DeprecationWarning: Calling np.sum(generator) is deprecated, and in the future will give a different result. Use np.sum(np.fromiter(generator)) or the python sum builtin instead.\n",
      "  qnew = ai - np.sum(np.dot(ai,qj) * qj for qj in basis) #deprecated in numpy\n"
     ]
    },
    {
     "data": {
      "text/plain": [
       "array([[0., 0., 1.],\n",
       "       [0., 1., 0.],\n",
       "       [1., 0., 0.]])"
      ]
     },
     "execution_count": 131,
     "metadata": {},
     "output_type": "execute_result"
    }
   ],
   "source": [
    "gram_schmidt(vectors)"
   ]
  },
  {
   "cell_type": "code",
   "execution_count": 135,
   "metadata": {},
   "outputs": [
    {
     "name": "stderr",
     "output_type": "stream",
     "text": [
      "C:\\Users\\MSIS\\AppData\\Local\\Temp\\ipykernel_1236\\541884409.py:4: DeprecationWarning: Calling np.sum(generator) is deprecated, and in the future will give a different result. Use np.sum(np.fromiter(generator)) or the python sum builtin instead.\n",
      "  qnew = ai - np.sum(np.dot(ai,qj) * qj for qj in basis) #deprecated in numpy\n"
     ]
    },
    {
     "ename": "Exception",
     "evalue": "vector [0 0 2] is linearly dependent on others",
     "output_type": "error",
     "traceback": [
      "\u001b[1;31m---------------------------------------------------------------------------\u001b[0m",
      "\u001b[1;31mException\u001b[0m                                 Traceback (most recent call last)",
      "\u001b[1;32mc:\\Users\\MSIS\\Desktop\\ALAlab\\KMEANS.ipynb Cell 36\u001b[0m line \u001b[0;36m6\n\u001b[0;32m      <a href='vscode-notebook-cell:/c%3A/Users/MSIS/Desktop/ALAlab/KMEANS.ipynb#X56sZmlsZQ%3D%3D?line=0'>1</a>\u001b[0m vectors \u001b[39m=\u001b[39m np\u001b[39m.\u001b[39marray(\n\u001b[0;32m      <a href='vscode-notebook-cell:/c%3A/Users/MSIS/Desktop/ALAlab/KMEANS.ipynb#X56sZmlsZQ%3D%3D?line=1'>2</a>\u001b[0m     [[\u001b[39m0\u001b[39m,\u001b[39m0\u001b[39m,\u001b[39m4\u001b[39m],\n\u001b[0;32m      <a href='vscode-notebook-cell:/c%3A/Users/MSIS/Desktop/ALAlab/KMEANS.ipynb#X56sZmlsZQ%3D%3D?line=2'>3</a>\u001b[0m     [\u001b[39m0\u001b[39m,\u001b[39m0\u001b[39m,\u001b[39m2\u001b[39m],\n\u001b[0;32m      <a href='vscode-notebook-cell:/c%3A/Users/MSIS/Desktop/ALAlab/KMEANS.ipynb#X56sZmlsZQ%3D%3D?line=3'>4</a>\u001b[0m     [\u001b[39m1\u001b[39m,\u001b[39m1\u001b[39m,\u001b[39m1\u001b[39m]]\n\u001b[0;32m      <a href='vscode-notebook-cell:/c%3A/Users/MSIS/Desktop/ALAlab/KMEANS.ipynb#X56sZmlsZQ%3D%3D?line=4'>5</a>\u001b[0m )\n\u001b[1;32m----> <a href='vscode-notebook-cell:/c%3A/Users/MSIS/Desktop/ALAlab/KMEANS.ipynb#X56sZmlsZQ%3D%3D?line=5'>6</a>\u001b[0m gram_schmidt(vectors)\n",
      "\u001b[1;32mc:\\Users\\MSIS\\Desktop\\ALAlab\\KMEANS.ipynb Cell 36\u001b[0m line \u001b[0;36m9\n\u001b[0;32m      <a href='vscode-notebook-cell:/c%3A/Users/MSIS/Desktop/ALAlab/KMEANS.ipynb#X56sZmlsZQ%3D%3D?line=6'>7</a>\u001b[0m         basis\u001b[39m.\u001b[39mappend(qnew\u001b[39m/\u001b[39mnorm)\n\u001b[0;32m      <a href='vscode-notebook-cell:/c%3A/Users/MSIS/Desktop/ALAlab/KMEANS.ipynb#X56sZmlsZQ%3D%3D?line=7'>8</a>\u001b[0m     \u001b[39melse\u001b[39;00m:\n\u001b[1;32m----> <a href='vscode-notebook-cell:/c%3A/Users/MSIS/Desktop/ALAlab/KMEANS.ipynb#X56sZmlsZQ%3D%3D?line=8'>9</a>\u001b[0m         \u001b[39mraise\u001b[39;00m \u001b[39mException\u001b[39;00m(\u001b[39mf\u001b[39m\u001b[39m'\u001b[39m\u001b[39mvector \u001b[39m\u001b[39m{\u001b[39;00mai\u001b[39m}\u001b[39;00m\u001b[39m is linearly dependent on others\u001b[39m\u001b[39m'\u001b[39m)\n\u001b[0;32m     <a href='vscode-notebook-cell:/c%3A/Users/MSIS/Desktop/ALAlab/KMEANS.ipynb#X56sZmlsZQ%3D%3D?line=9'>10</a>\u001b[0m         \u001b[39mbreak\u001b[39;00m\n\u001b[0;32m     <a href='vscode-notebook-cell:/c%3A/Users/MSIS/Desktop/ALAlab/KMEANS.ipynb#X56sZmlsZQ%3D%3D?line=10'>11</a>\u001b[0m \u001b[39mreturn\u001b[39;00m np\u001b[39m.\u001b[39marray(basis)\n",
      "\u001b[1;31mException\u001b[0m: vector [0 0 2] is linearly dependent on others"
     ]
    }
   ],
   "source": [
    "vectors = np.array(\n",
    "    [[0,0,4],\n",
    "    [0,0,2],\n",
    "    [1,1,1]]\n",
    ")\n",
    "gram_schmidt(vectors)"
   ]
  }
 ],
 "metadata": {
  "kernelspec": {
   "display_name": "quickstart",
   "language": "python",
   "name": "python3"
  },
  "language_info": {
   "codemirror_mode": {
    "name": "ipython",
    "version": 3
   },
   "file_extension": ".py",
   "mimetype": "text/x-python",
   "name": "python",
   "nbconvert_exporter": "python",
   "pygments_lexer": "ipython3",
   "version": "3.9.17"
  },
  "orig_nbformat": 4
 },
 "nbformat": 4,
 "nbformat_minor": 2
}
