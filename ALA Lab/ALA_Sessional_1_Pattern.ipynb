{
 "cells": [
  {
   "cell_type": "markdown",
   "metadata": {},
   "source": [
    "# ALA Lab Sessional 1 Pattern Problem"
   ]
  },
  {
   "cell_type": "markdown",
   "metadata": {},
   "source": [
    "### 1. Pre-requisites for lab in VS Code\n",
    "1. Install PDF export support https://saturncloud.io/blog/how-to-export-jupyter-notebook-by-vscode-in-pdf-format/\n",
    "\n",
    "### 2. At the end, export your notebook as pdf \n",
    "1. Open VS Code command palette Shift + Ctrl + P\n",
    "2. Type \"Export Jupyter Notebook\" in the search bar and select \"Export Jupyter Notebook to PDF\"\n",
    "3. Save the pdf and send it to me in MS Teams"
   ]
  },
  {
   "cell_type": "code",
   "execution_count": 1,
   "metadata": {},
   "outputs": [
    {
     "name": "stdout",
     "output_type": "stream",
     "text": [
      "Collecting nbconvert\n",
      "  Obtaining dependency information for nbconvert from https://files.pythonhosted.org/packages/a4/a6/072b6fd04616f1409f37ef5967ea5bbbeea1447d4494c2d98658a95fc985/nbconvert-7.8.0-py3-none-any.whl.metadata\n",
      "  Downloading nbconvert-7.8.0-py3-none-any.whl.metadata (8.0 kB)\n",
      "Collecting PyPDF2\n",
      "  Downloading pypdf2-3.0.1-py3-none-any.whl (232 kB)\n",
      "     ---------------------------------------- 0.0/232.6 kB ? eta -:--:--\n",
      "     ---------------------------------------- 0.0/232.6 kB ? eta -:--:--\n",
      "     - -------------------------------------- 10.2/232.6 kB ? eta -:--:--\n",
      "     ------ ------------------------------ 41.0/232.6 kB 393.8 kB/s eta 0:00:01\n",
      "     -------------------------- ----------- 163.8/232.6 kB 1.1 MB/s eta 0:00:01\n",
      "     ------------------------------------ - 225.3/232.6 kB 1.1 MB/s eta 0:00:01\n",
      "     ------------------------------------ 232.6/232.6 kB 950.1 kB/s eta 0:00:00\n",
      "Collecting beautifulsoup4 (from nbconvert)\n",
      "  Downloading beautifulsoup4-4.12.2-py3-none-any.whl (142 kB)\n",
      "     ---------------------------------------- 0.0/143.0 kB ? eta -:--:--\n",
      "     -------- ------------------------------- 30.7/143.0 kB ? eta -:--:--\n",
      "     ----------------------------------- -- 133.1/143.0 kB 1.6 MB/s eta 0:00:01\n",
      "     -------------------------------------- 143.0/143.0 kB 1.1 MB/s eta 0:00:00\n",
      "Collecting bleach!=5.0.0 (from nbconvert)\n",
      "  Downloading bleach-6.0.0-py3-none-any.whl (162 kB)\n",
      "     ---------------------------------------- 0.0/162.5 kB ? eta -:--:--\n",
      "     -------------------------- ----------- 112.6/162.5 kB 3.3 MB/s eta 0:00:01\n",
      "     ----------------------------------- -- 153.6/162.5 kB 3.1 MB/s eta 0:00:01\n",
      "     -------------------------------------- 162.5/162.5 kB 1.6 MB/s eta 0:00:00\n",
      "Collecting defusedxml (from nbconvert)\n",
      "  Downloading defusedxml-0.7.1-py2.py3-none-any.whl (25 kB)\n",
      "Requirement already satisfied: importlib-metadata>=3.6 in c:\\users\\msis\\anaconda3\\envs\\quickstart\\lib\\site-packages (from nbconvert) (6.0.0)\n",
      "Collecting jinja2>=3.0 (from nbconvert)\n",
      "  Downloading Jinja2-3.1.2-py3-none-any.whl (133 kB)\n",
      "     ---------------------------------------- 0.0/133.1 kB ? eta -:--:--\n",
      "     ------------------ -------------------- 61.4/133.1 kB 3.2 MB/s eta 0:00:01\n",
      "     ----------------------------------- -- 122.9/133.1 kB 1.4 MB/s eta 0:00:01\n",
      "     -------------------------------------- 133.1/133.1 kB 1.3 MB/s eta 0:00:00\n",
      "Requirement already satisfied: jupyter-core>=4.7 in c:\\users\\msis\\anaconda3\\envs\\quickstart\\lib\\site-packages (from nbconvert) (5.3.0)\n",
      "Collecting jupyterlab-pygments (from nbconvert)\n",
      "  Downloading jupyterlab_pygments-0.2.2-py2.py3-none-any.whl (21 kB)\n",
      "Collecting markupsafe>=2.0 (from nbconvert)\n",
      "  Obtaining dependency information for markupsafe>=2.0 from https://files.pythonhosted.org/packages/a2/b2/624042cb58cc6b3529a6c3a7b7d230766e3ecb768cba118ba7befd18ed6f/MarkupSafe-2.1.3-cp39-cp39-win_amd64.whl.metadata\n",
      "  Downloading MarkupSafe-2.1.3-cp39-cp39-win_amd64.whl.metadata (3.1 kB)\n",
      "Collecting mistune<4,>=2.0.3 (from nbconvert)\n",
      "  Obtaining dependency information for mistune<4,>=2.0.3 from https://files.pythonhosted.org/packages/cc/c0/ac9587149e37cde62ae338e9db8241ae2fdc79a84bde8c8ba7caea2c22d8/mistune-3.0.1-py3-none-any.whl.metadata\n",
      "  Downloading mistune-3.0.1-py3-none-any.whl.metadata (1.7 kB)\n",
      "Collecting nbclient>=0.5.0 (from nbconvert)\n",
      "  Obtaining dependency information for nbclient>=0.5.0 from https://files.pythonhosted.org/packages/ac/5a/d670ca51e6c3d98574b9647599821590efcd811d71f58e9c89fc59a17685/nbclient-0.8.0-py3-none-any.whl.metadata\n",
      "  Downloading nbclient-0.8.0-py3-none-any.whl.metadata (7.8 kB)\n",
      "Collecting nbformat>=5.7 (from nbconvert)\n",
      "  Obtaining dependency information for nbformat>=5.7 from https://files.pythonhosted.org/packages/f4/e7/ef30a90b70eba39e675689b9eaaa92530a71d7435ab8f9cae520814e0caf/nbformat-5.9.2-py3-none-any.whl.metadata\n",
      "  Downloading nbformat-5.9.2-py3-none-any.whl.metadata (3.4 kB)\n",
      "Requirement already satisfied: packaging in c:\\users\\msis\\anaconda3\\envs\\quickstart\\lib\\site-packages (from nbconvert) (23.0)\n",
      "Collecting pandocfilters>=1.4.1 (from nbconvert)\n",
      "  Downloading pandocfilters-1.5.0-py2.py3-none-any.whl (8.7 kB)\n",
      "Requirement already satisfied: pygments>=2.4.1 in c:\\users\\msis\\anaconda3\\envs\\quickstart\\lib\\site-packages (from nbconvert) (2.15.1)\n",
      "Collecting tinycss2 (from nbconvert)\n",
      "  Downloading tinycss2-1.2.1-py3-none-any.whl (21 kB)\n",
      "Requirement already satisfied: traitlets>=5.1 in c:\\users\\msis\\anaconda3\\envs\\quickstart\\lib\\site-packages (from nbconvert) (5.7.1)\n",
      "Requirement already satisfied: typing_extensions>=3.10.0.0 in c:\\users\\msis\\anaconda3\\envs\\quickstart\\lib\\site-packages (from PyPDF2) (4.7.1)\n",
      "Requirement already satisfied: six>=1.9.0 in c:\\users\\msis\\anaconda3\\envs\\quickstart\\lib\\site-packages (from bleach!=5.0.0->nbconvert) (1.16.0)\n",
      "Collecting webencodings (from bleach!=5.0.0->nbconvert)\n",
      "  Downloading webencodings-0.5.1-py2.py3-none-any.whl (11 kB)\n",
      "Requirement already satisfied: zipp>=0.5 in c:\\users\\msis\\anaconda3\\envs\\quickstart\\lib\\site-packages (from importlib-metadata>=3.6->nbconvert) (3.11.0)\n",
      "Requirement already satisfied: platformdirs>=2.5 in c:\\users\\msis\\anaconda3\\envs\\quickstart\\lib\\site-packages (from jupyter-core>=4.7->nbconvert) (2.5.2)\n",
      "Requirement already satisfied: pywin32>=300 in c:\\users\\msis\\anaconda3\\envs\\quickstart\\lib\\site-packages (from jupyter-core>=4.7->nbconvert) (305.1)\n",
      "Requirement already satisfied: jupyter-client>=6.1.12 in c:\\users\\msis\\anaconda3\\envs\\quickstart\\lib\\site-packages (from nbclient>=0.5.0->nbconvert) (8.1.0)\n",
      "Collecting fastjsonschema (from nbformat>=5.7->nbconvert)\n",
      "  Obtaining dependency information for fastjsonschema from https://files.pythonhosted.org/packages/9d/93/a3ca3cdeb84065d7d8f8df4cb09ab44405f109183c1d2b915ec17574e6b1/fastjsonschema-2.18.0-py3-none-any.whl.metadata\n",
      "  Downloading fastjsonschema-2.18.0-py3-none-any.whl.metadata (2.0 kB)\n",
      "Collecting jsonschema>=2.6 (from nbformat>=5.7->nbconvert)\n",
      "  Obtaining dependency information for jsonschema>=2.6 from https://files.pythonhosted.org/packages/0f/bf/a84bc75f069f4f156e1c0d9892fb7325945106c6ecaad9f29d24360872af/jsonschema-4.19.1-py3-none-any.whl.metadata\n",
      "  Downloading jsonschema-4.19.1-py3-none-any.whl.metadata (7.9 kB)\n",
      "Collecting soupsieve>1.2 (from beautifulsoup4->nbconvert)\n",
      "  Obtaining dependency information for soupsieve>1.2 from https://files.pythonhosted.org/packages/4c/f3/038b302fdfbe3be7da016777069f26ceefe11a681055ea1f7817546508e3/soupsieve-2.5-py3-none-any.whl.metadata\n",
      "  Downloading soupsieve-2.5-py3-none-any.whl.metadata (4.7 kB)\n",
      "Collecting attrs>=22.2.0 (from jsonschema>=2.6->nbformat>=5.7->nbconvert)\n",
      "  Downloading attrs-23.1.0-py3-none-any.whl (61 kB)\n",
      "     ---------------------------------------- 0.0/61.2 kB ? eta -:--:--\n",
      "     ---------------------------------------- 0.0/61.2 kB ? eta -:--:--\n",
      "     --------------------------------- ------ 51.2/61.2 kB 1.3 MB/s eta 0:00:01\n",
      "     --------------------------------- ------ 51.2/61.2 kB 1.3 MB/s eta 0:00:01\n",
      "     -------------------------------------- 61.2/61.2 kB 462.9 kB/s eta 0:00:00\n",
      "Collecting jsonschema-specifications>=2023.03.6 (from jsonschema>=2.6->nbformat>=5.7->nbconvert)\n",
      "  Obtaining dependency information for jsonschema-specifications>=2023.03.6 from https://files.pythonhosted.org/packages/1c/24/83349ac2189cc2435e84da3f69ba3c97314d3c0622628e55171c6798ed80/jsonschema_specifications-2023.7.1-py3-none-any.whl.metadata\n",
      "  Downloading jsonschema_specifications-2023.7.1-py3-none-any.whl.metadata (2.8 kB)\n",
      "Collecting referencing>=0.28.4 (from jsonschema>=2.6->nbformat>=5.7->nbconvert)\n",
      "  Obtaining dependency information for referencing>=0.28.4 from https://files.pythonhosted.org/packages/be/8e/56d6f1e2d591f4d6cbcba446cac4a1b0dc4f584537e2071d9bcee8eeab6b/referencing-0.30.2-py3-none-any.whl.metadata\n",
      "  Downloading referencing-0.30.2-py3-none-any.whl.metadata (2.6 kB)\n",
      "Collecting rpds-py>=0.7.1 (from jsonschema>=2.6->nbformat>=5.7->nbconvert)\n",
      "  Obtaining dependency information for rpds-py>=0.7.1 from https://files.pythonhosted.org/packages/0a/3b/da48a81526487acc4c8f1a0715bbd426eedeace7152f81ed3fd8cd563145/rpds_py-0.10.3-cp39-none-win_amd64.whl.metadata\n",
      "  Downloading rpds_py-0.10.3-cp39-none-win_amd64.whl.metadata (3.8 kB)\n",
      "Requirement already satisfied: python-dateutil>=2.8.2 in c:\\users\\msis\\anaconda3\\envs\\quickstart\\lib\\site-packages (from jupyter-client>=6.1.12->nbclient>=0.5.0->nbconvert) (2.8.2)\n",
      "Requirement already satisfied: pyzmq>=23.0 in c:\\users\\msis\\anaconda3\\envs\\quickstart\\lib\\site-packages (from jupyter-client>=6.1.12->nbclient>=0.5.0->nbconvert) (25.1.0)\n",
      "Requirement already satisfied: tornado>=6.2 in c:\\users\\msis\\anaconda3\\envs\\quickstart\\lib\\site-packages (from jupyter-client>=6.1.12->nbclient>=0.5.0->nbconvert) (6.3.2)\n",
      "Downloading nbconvert-7.8.0-py3-none-any.whl (254 kB)\n",
      "   ---------------------------------------- 0.0/254.9 kB ? eta -:--:--\n",
      "   ---------------------------------------- 0.0/254.9 kB ? eta -:--:--\n",
      "   ---- ----------------------------------- 30.7/254.9 kB ? eta -:--:--\n",
      "   ------ -------------------------------- 41.0/254.9 kB 991.0 kB/s eta 0:00:01\n",
      "   --------- ----------------------------- 61.4/254.9 kB 656.4 kB/s eta 0:00:01\n",
      "   ------------ -------------------------- 81.9/254.9 kB 573.4 kB/s eta 0:00:01\n",
      "   -------------- ------------------------ 92.2/254.9 kB 476.3 kB/s eta 0:00:01\n",
      "   ---------------- --------------------- 112.6/254.9 kB 437.6 kB/s eta 0:00:01\n",
      "   --------------------- ---------------- 143.4/254.9 kB 448.2 kB/s eta 0:00:01\n",
      "   ------------------------ ------------- 163.8/254.9 kB 447.8 kB/s eta 0:00:01\n",
      "   ------------------------- ------------ 174.1/254.9 kB 436.9 kB/s eta 0:00:01\n",
      "   ----------------------------- -------- 194.6/254.9 kB 454.0 kB/s eta 0:00:01\n",
      "   --------------------------------- ---- 225.3/254.9 kB 444.3 kB/s eta 0:00:01\n",
      "   ------------------------------------ - 245.8/254.9 kB 457.3 kB/s eta 0:00:01\n",
      "   -------------------------------------- 254.9/254.9 kB 435.4 kB/s eta 0:00:00\n",
      "Downloading MarkupSafe-2.1.3-cp39-cp39-win_amd64.whl (17 kB)\n",
      "Downloading mistune-3.0.1-py3-none-any.whl (47 kB)\n",
      "   ---------------------------------------- 0.0/48.0 kB ? eta -:--:--\n",
      "   -------- ------------------------------- 10.2/48.0 kB ? eta -:--:--\n",
      "   ---------------------------------- ----- 41.0/48.0 kB 487.6 kB/s eta 0:00:01\n",
      "   ---------------------------------------- 48.0/48.0 kB 401.3 kB/s eta 0:00:00\n",
      "Downloading nbclient-0.8.0-py3-none-any.whl (73 kB)\n",
      "   ---------------------------------------- 0.0/73.1 kB ? eta -:--:--\n",
      "   ----- ---------------------------------- 10.2/73.1 kB ? eta -:--:--\n",
      "   ---------------- ----------------------- 30.7/73.1 kB 660.6 kB/s eta 0:00:01\n",
      "   ---------------------- ----------------- 41.0/73.1 kB 393.8 kB/s eta 0:00:01\n",
      "   ---------------------------------------  71.7/73.1 kB 435.7 kB/s eta 0:00:01\n",
      "   ---------------------------------------- 73.1/73.1 kB 336.3 kB/s eta 0:00:00\n",
      "Downloading nbformat-5.9.2-py3-none-any.whl (77 kB)\n",
      "   ---------------------------------------- 0.0/77.6 kB ? eta -:--:--\n",
      "   ---------------------------------------- 0.0/77.6 kB ? eta -:--:--\n",
      "   --------------- ------------------------ 30.7/77.6 kB ? eta -:--:--\n",
      "   --------------- ------------------------ 30.7/77.6 kB ? eta -:--:--\n",
      "   --------------------- ------------------ 41.0/77.6 kB 487.6 kB/s eta 0:00:01\n",
      "   ------------------------------------ --- 71.7/77.6 kB 435.7 kB/s eta 0:00:01\n",
      "   ---------------------------------------- 77.6/77.6 kB 391.6 kB/s eta 0:00:00\n",
      "Downloading jsonschema-4.19.1-py3-none-any.whl (83 kB)\n",
      "   ---------------------------------------- 0.0/83.3 kB ? eta -:--:--\n",
      "   ---------------------------------------- 0.0/83.3 kB ? eta -:--:--\n",
      "   ---- ----------------------------------- 10.2/83.3 kB ? eta -:--:--\n",
      "   -------------- ------------------------- 30.7/83.3 kB 330.3 kB/s eta 0:00:01\n",
      "   -------------- ------------------------- 30.7/83.3 kB 330.3 kB/s eta 0:00:01\n",
      "   ------------------- -------------------- 41.0/83.3 kB 217.9 kB/s eta 0:00:01\n",
      "   ------------------- -------------------- 41.0/83.3 kB 217.9 kB/s eta 0:00:01\n",
      "   ----------------------------- ---------- 61.4/83.3 kB 218.8 kB/s eta 0:00:01\n",
      "   ---------------------------------------- 83.3/83.3 kB 234.1 kB/s eta 0:00:00\n",
      "Downloading soupsieve-2.5-py3-none-any.whl (36 kB)\n",
      "Downloading fastjsonschema-2.18.0-py3-none-any.whl (23 kB)\n",
      "Downloading jsonschema_specifications-2023.7.1-py3-none-any.whl (17 kB)\n",
      "Downloading referencing-0.30.2-py3-none-any.whl (25 kB)\n",
      "Downloading rpds_py-0.10.3-cp39-none-win_amd64.whl (186 kB)\n",
      "   ---------------------------------------- 0.0/186.1 kB ? eta -:--:--\n",
      "   -- ------------------------------------- 10.2/186.1 kB ? eta -:--:--\n",
      "   ------ -------------------------------- 30.7/186.1 kB 435.7 kB/s eta 0:00:01\n",
      "   -------- ------------------------------ 41.0/186.1 kB 326.8 kB/s eta 0:00:01\n",
      "   ------------ -------------------------- 61.4/186.1 kB 326.1 kB/s eta 0:00:01\n",
      "   ----------------- --------------------- 81.9/186.1 kB 353.1 kB/s eta 0:00:01\n",
      "   ------------------- ------------------- 92.2/186.1 kB 327.7 kB/s eta 0:00:01\n",
      "   ----------------------- -------------- 112.6/186.1 kB 363.1 kB/s eta 0:00:01\n",
      "   ------------------------- ------------ 122.9/186.1 kB 343.4 kB/s eta 0:00:01\n",
      "   --------------------------------- ---- 163.8/186.1 kB 364.0 kB/s eta 0:00:01\n",
      "   -------------------------------------  184.3/186.1 kB 371.2 kB/s eta 0:00:01\n",
      "   -------------------------------------  184.3/186.1 kB 371.2 kB/s eta 0:00:01\n",
      "   -------------------------------------- 186.1/186.1 kB 330.5 kB/s eta 0:00:00\n",
      "Installing collected packages: webencodings, fastjsonschema, tinycss2, soupsieve, rpds-py, PyPDF2, pandocfilters, mistune, markupsafe, jupyterlab-pygments, defusedxml, bleach, attrs, referencing, jinja2, beautifulsoup4, jsonschema-specifications, jsonschema, nbformat, nbclient, nbconvert\n",
      "Successfully installed PyPDF2-3.0.1 attrs-23.1.0 beautifulsoup4-4.12.2 bleach-6.0.0 defusedxml-0.7.1 fastjsonschema-2.18.0 jinja2-3.1.2 jsonschema-4.19.1 jsonschema-specifications-2023.7.1 jupyterlab-pygments-0.2.2 markupsafe-2.1.3 mistune-3.0.1 nbclient-0.8.0 nbconvert-7.8.0 nbformat-5.9.2 pandocfilters-1.5.0 referencing-0.30.2 rpds-py-0.10.3 soupsieve-2.5 tinycss2-1.2.1 webencodings-0.5.1\n",
      "Note: you may need to restart the kernel to use updated packages.\n"
     ]
    }
   ],
   "source": [
    "pip install nbconvert PyPDF2"
   ]
  },
  {
   "cell_type": "markdown",
   "metadata": {},
   "source": [
    "### 3. Lab Sessional - Dos and Don'ts - Summary \n",
    "1. A code template will be given to you in actual lab sesional just like this pattern problem\n",
    "2. The template will follow a linear sequence of TODOs appropriately labelled with question marks\n",
    "3. You will have to fill the TODO question marks to compile those notebook cells and proceed to next cells\n",
    "4. You can think of the linear sequence of TODO templates as a guided thought process.\n",
    "5. Sessional is open book. Google, github, browse product documentation ChatGPT - Do anything you want, except copying from your classmates (Sending questions to your seniors and seeking answers is prohibited). If you are caught carrying out these illegal activities, you will be reported to MSIS Director for immediate action. \n",
    "6. You CANNOT replace the TODO code template with some other code copied from stack overflow, ChatGPT etc. All your browsing and search should give you insights into finally how you can fit that into the framework I provide for the thought process of solving the problem in this notebook. You will have to mandatorily fill the question marks and proceed with the lab problem."
   ]
  },
  {
   "cell_type": "code",
   "execution_count": null,
   "metadata": {},
   "outputs": [],
   "source": [
    "import numpy as np\n",
    "import pandas as pd\n",
    "\n",
    "import matplotlib.pyplot as plt"
   ]
  },
  {
   "cell_type": "markdown",
   "metadata": {},
   "source": [
    "### Pattern Problem\n",
    "\n",
    "The food that we eat contains primarily three items - fats, proteins, and carbohydrates. The calorific data for the three is as tabulated below\n",
    "\n",
    "| Nutrients  | Cal/gm|\n",
    "|---|-----:|\n",
    "|Fats| 9|\n",
    "|Proteins|4|\n",
    "|Carbohydrates|4|\n",
    "\n",
    "It was found that a typical person from Karnataka consumes the following on a daily basis \n",
    "1. two servings of Idli for breakfast\n",
    "2. one serving of rice in the lunch \n",
    "3. one serving of bisibelebath for supper(night)\n",
    "4. two servings of snacks during the day\n",
    "\n",
    "The fats, proteins and carbs breakdown in *<font color=\"red\">1 serving</font>* each of the above food items is tabulated below\n",
    "\n",
    "|      | Fat (gm) | Protein (gm) | Carbohydrate (gm) |\n",
    "|---|----:|----:|---:|\n",
    "|Idli| 0.8 | 30 | 25 |\n",
    "|Rice| 0.9 | 5 | 50 |\n",
    "|Snacks| 20 | 5 | 10 |\n",
    "|Bisibelebath| 10 | 20 | 50 |"
   ]
  },
  {
   "cell_type": "markdown",
   "metadata": {},
   "source": [
    "### Your task\n",
    "1. Use numpy to create vectors (and matrices if needed) to hold the data \n",
    "2. Use simple <font color=\"red\">linear algebra operations</font> (such as linear combinations, dot product, hadamard product, matrix-vector multiplication etc.) on these vectors and matrices to calculate the total calories consumed by the typical person from Karnataka over the span of day and night."
   ]
  },
  {
   "cell_type": "code",
   "execution_count": null,
   "metadata": {},
   "outputs": [],
   "source": [
    "food_nutrients_in_grams = np.array([\n",
    "    [0.8, 30, 25],\n",
    "    [0.9, 5, 50],\n",
    "    [20, 5, 10],\n",
    "    [10, 20, 50]\n",
    "])\n",
    "food_nutrients_in_grams"
   ]
  },
  {
   "cell_type": "code",
   "execution_count": null,
   "metadata": {},
   "outputs": [],
   "source": [
    "calories_per_grams = np.array([9, 4, 4])\n",
    "calories_per_grams"
   ]
  },
  {
   "cell_type": "code",
   "execution_count": null,
   "metadata": {},
   "outputs": [],
   "source": [
    "# TODO: 1\n",
    "# Fill the array to hold the servings per day\n",
    "# Caution: Order of food items and their correponding servings should be lined up correctly \n",
    "servings_per_day = np.array([[2, 1, 2, 1]])"
   ]
  },
  {
   "cell_type": "code",
   "execution_count": null,
   "metadata": {},
   "outputs": [],
   "source": [
    "# TODO: 2\n",
    "# using the food_nutrients_in_grams matrix and cal_per_grams vector, \n",
    "# calculate the calories in each food items\n",
    "# For e.g. Idli has Fat-Protein-Carbohydrate = [0.8, 30, 25]\n",
    "# cal_per_grams of Fat-Protein-Carbohydrate = [9, 4, 4]\n",
    "# idli_calories = idli_fat * fat_calories + idli_protein * protein_calories + idli_carb * carb_calories\n",
    "idli_calories = np.dot(food_nutrients_in_grams[0,:], calories_per_grams)\n",
    "print(idli_calories)"
   ]
  },
  {
   "cell_type": "code",
   "execution_count": null,
   "metadata": {},
   "outputs": [],
   "source": [
    "# TODO: 3\n",
    "\n",
    "# Similarly calculate rice calories\n",
    "rice_calories = np.dot(food_nutrients_in_grams[1,:], calories_per_grams)\n",
    "print(rice_calories)\n",
    "\n",
    "# Calculate snack calories\n",
    "snack_calories = np.dot(food_nutrients_in_grams[2,:], calories_per_grams)\n",
    "print(snack_calories)\n",
    "\n",
    "# Calculate bisibelebath calories\n",
    "bisibelebath_calories = np.dot(food_nutrients_in_grams[3,:], calories_per_grams)\n",
    "print(bisibelebath_calories)"
   ]
  },
  {
   "cell_type": "code",
   "execution_count": null,
   "metadata": {},
   "outputs": [],
   "source": [
    "# TODO: 4\n",
    "# In the previous cells you calculated calories in individual food items\n",
    "# as individual numpy operation\n",
    "# All the 4 numpy operations can be combined into a single numpy operation between a matrix and vector\n",
    "fooditem_calories = np.matmul(food_nutrients_in_grams, calories_per_grams)\n",
    "print(fooditem_calories)"
   ]
  },
  {
   "cell_type": "code",
   "execution_count": null,
   "metadata": {},
   "outputs": [],
   "source": [
    "fooditem_calories.shape"
   ]
  },
  {
   "cell_type": "code",
   "execution_count": null,
   "metadata": {},
   "outputs": [],
   "source": [
    "# TODO: 5\n",
    "# In previous cell you calculated the calories in each food item i.e. Idli, Rice etc. as a vector\n",
    "# Now you should calculate the daily calories of idli, rice, etc.\n",
    "# For e.g. daily_idli_calories =  idli_calories * num_idli_servings_per_day\n",
    "# daily_rice_calories = rice_calories * num_rice_servings_per_day\n",
    "# But you should calculate it with a operation on fooditem_calories vector and another _____ vector\n",
    "\n",
    "# You might get a compilation error. Follow instructions in next cells to fix the error\n",
    "total_daily_calories = np.dot(fooditem_calories, servings_per_day) "
   ]
  },
  {
   "cell_type": "code",
   "execution_count": null,
   "metadata": {},
   "outputs": [],
   "source": [
    "# TODO: 6\n",
    "# Write your debug code here to print the shape of the two vectors you used in above cell\n",
    "print(f\"shape of fooditem_calories vector is {fooditem_calories.shape}\")\n",
    "print(f\"shape of ??? vector is {servings_per_day.shape}\") #This shape will be odd. hence error"
   ]
  },
  {
   "cell_type": "code",
   "execution_count": null,
   "metadata": {},
   "outputs": [],
   "source": [
    "# TODO: 7\n",
    "# You might want to flatten the second vector before using it\n",
    "servings_per_day = servings_per_day.flatten()"
   ]
  },
  {
   "cell_type": "code",
   "execution_count": null,
   "metadata": {},
   "outputs": [],
   "source": [
    "# TODO: 8\n",
    "# Now you should be able to use the flattened vector here \n",
    "# Calculate total daily calories with a operation on two vectors whose output is scalar\n",
    "# The two vectors are fooditem_calories vector and another _____ vector\n",
    "total_daily_calories = np.dot(fooditem_calories, servings_per_day) "
   ]
  },
  {
   "cell_type": "code",
   "execution_count": null,
   "metadata": {},
   "outputs": [],
   "source": [
    "# TODO: 9\n",
    "# Line below is not printing the total daily calories\n",
    "# Fix this \n",
    "print(f\"Total daily calories = {total_daily_calories}\")"
   ]
  },
  {
   "cell_type": "code",
   "execution_count": null,
   "metadata": {},
   "outputs": [],
   "source": []
  }
 ],
 "metadata": {
  "kernelspec": {
   "display_name": "quickstart",
   "language": "python",
   "name": "python3"
  },
  "language_info": {
   "codemirror_mode": {
    "name": "ipython",
    "version": 3
   },
   "file_extension": ".py",
   "mimetype": "text/x-python",
   "name": "python",
   "nbconvert_exporter": "python",
   "pygments_lexer": "ipython3",
   "version": "3.9.17"
  },
  "orig_nbformat": 4
 },
 "nbformat": 4,
 "nbformat_minor": 2
}
