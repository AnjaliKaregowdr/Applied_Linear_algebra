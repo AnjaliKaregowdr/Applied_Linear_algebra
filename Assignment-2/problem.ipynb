{
 "cells": [
  {
   "cell_type": "code",
   "execution_count": 5,
   "metadata": {},
   "outputs": [
    {
     "data": {
      "text/html": [
       "<div>\n",
       "<style scoped>\n",
       "    .dataframe tbody tr th:only-of-type {\n",
       "        vertical-align: middle;\n",
       "    }\n",
       "\n",
       "    .dataframe tbody tr th {\n",
       "        vertical-align: top;\n",
       "    }\n",
       "\n",
       "    .dataframe thead th {\n",
       "        text-align: right;\n",
       "    }\n",
       "</style>\n",
       "<table border=\"1\" class=\"dataframe\">\n",
       "  <thead>\n",
       "    <tr style=\"text-align: right;\">\n",
       "      <th></th>\n",
       "      <th>HR</th>\n",
       "      <th>BP</th>\n",
       "      <th>Temp</th>\n",
       "    </tr>\n",
       "  </thead>\n",
       "  <tbody>\n",
       "    <tr>\n",
       "      <th>patient-1</th>\n",
       "      <td>76</td>\n",
       "      <td>126</td>\n",
       "      <td>38.0</td>\n",
       "    </tr>\n",
       "    <tr>\n",
       "      <th>patient-2</th>\n",
       "      <td>74</td>\n",
       "      <td>120</td>\n",
       "      <td>38.0</td>\n",
       "    </tr>\n",
       "    <tr>\n",
       "      <th>patient-3</th>\n",
       "      <td>72</td>\n",
       "      <td>118</td>\n",
       "      <td>37.5</td>\n",
       "    </tr>\n",
       "    <tr>\n",
       "      <th>patient-4</th>\n",
       "      <td>78</td>\n",
       "      <td>136</td>\n",
       "      <td>37.0</td>\n",
       "    </tr>\n",
       "  </tbody>\n",
       "</table>\n",
       "</div>"
      ],
      "text/plain": [
       "           HR   BP  Temp\n",
       "patient-1  76  126  38.0\n",
       "patient-2  74  120  38.0\n",
       "patient-3  72  118  37.5\n",
       "patient-4  78  136  37.0"
      ]
     },
     "execution_count": 5,
     "metadata": {},
     "output_type": "execute_result"
    }
   ],
   "source": [
    "import numpy as np\n",
    "import pandas as pd\n",
    "\n",
    "# Given dataset\n",
    "data = pd.DataFrame({\n",
    "    'HR': [76, 74, 72, 78],\n",
    "    'BP': [126, 120, 118, 136],\n",
    "    'Temp': [38.0, 38.0, 37.5, 37.0]},\n",
    "    index=['patient-1','patient-2','patient-3','patient-4']\n",
    ")\n",
    "\n",
    "data.head()\n",
    "\n"
   ]
  },
  {
   "cell_type": "code",
   "execution_count": 6,
   "metadata": {},
   "outputs": [
    {
     "name": "stdout",
     "output_type": "stream",
     "text": [
      "Farthest patient from the rest: patient-4\n",
      "CPU times: total: 15.6 ms\n",
      "Wall time: 16 ms\n"
     ]
    }
   ],
   "source": [
    "%%time\n",
    "\n",
    "#1. Which patient is farthest from the rest? code in python using basic numpy and pandas operation\n",
    "def euclidean_distance(p1, p2):\n",
    "    return np.sqrt(np.sum((p2 - p1) ** 2))\n",
    "\n",
    "max_distance = 0\n",
    "farthest_patient = 0\n",
    "\n",
    "for patient1, data1 in data.iterrows():\n",
    "    total_distance = 0\n",
    "    for patient2, data2 in data.iterrows(): \n",
    "            distance = euclidean_distance(data1, data2)\n",
    "            total_distance += distance\n",
    "    if total_distance > max_distance:\n",
    "        max_distance = total_distance\n",
    "        farthest_patient = patient1\n",
    "\n",
    "print(\"Farthest patient from the rest:\", farthest_patient)"
   ]
  },
  {
   "cell_type": "code",
   "execution_count": 7,
   "metadata": {},
   "outputs": [
    {
     "name": "stdout",
     "output_type": "stream",
     "text": [
      "Nearest patients: ('patient-2', 'patient-3')\n",
      "CPU times: total: 15.6 ms\n",
      "Wall time: 24.9 ms\n"
     ]
    }
   ],
   "source": [
    "%%time\n",
    "\n",
    "#2.which two patients are nearest\n",
    "\n",
    "min_distance = np.inf  \n",
    "nearest_patients =0\n",
    "\n",
    "# Compare each patient data to all other patient's data\n",
    "for patient1, data1 in data.iterrows():\n",
    "    for patient2, data2 in data.iterrows():\n",
    "        if patient1 != patient2: \n",
    "            distance = euclidean_distance(data1, data2)\n",
    "            if distance < min_distance:\n",
    "                min_distance = distance\n",
    "                nearest_patients = (patient1, patient2)\n",
    "\n",
    "print(\"Nearest patients:\", nearest_patients)\n",
    "\n"
   ]
  },
  {
   "cell_type": "code",
   "execution_count": 8,
   "metadata": {},
   "outputs": [
    {
     "name": "stdout",
     "output_type": "stream",
     "text": [
      "Closest patient to the dummy patient: patient-1\n",
      "CPU times: total: 15.6 ms\n",
      "Wall time: 9 ms\n"
     ]
    }
   ],
   "source": [
    "%%time\n",
    "\n",
    "#3.Create a new dummy patient, and then find which is the closest patient?\n",
    "# New dummy patient data\n",
    "dummy_patient_data = np.array([80, 130, 38.5])  \n",
    "dummy_patient_name = 'DummyPatient'\n",
    "data.loc[dummy_patient_name] = dummy_patient_data\n",
    "\n",
    "min_distance = np.inf \n",
    "closest_patient = 0\n",
    "\n",
    "for patient, data in data.iterrows():\n",
    "    if patient != dummy_patient_name:\n",
    "        distance = euclidean_distance(dummy_patient_data, data)\n",
    "        if distance < min_distance:\n",
    "            min_distance = distance\n",
    "            closest_patient = patient\n",
    "\n",
    "print(\"Closest patient to the dummy patient:\", closest_patient)"
   ]
  },
  {
   "cell_type": "code",
   "execution_count": 9,
   "metadata": {},
   "outputs": [],
   "source": [
    "#4. What is the time complexity of this operation of finding the closest two and farthest patients? Specify using Bigo notation. \n",
    "\n",
    "#there are n patients and the code compares each patient with every other patient, \n",
    "#so the total number of distance calculations is proportional to n * n, \n",
    "#resulting in O(n^2) complexity.\n",
    "\n",
    "#in Big O notation: O(n^2)\n"
   ]
  },
  {
   "cell_type": "code",
   "execution_count": 10,
   "metadata": {},
   "outputs": [],
   "source": [
    "#5. Can you name one practical use of such a simple technique when about 100s of features are available and thousands of patient data is available?\n",
    "\n",
    "#Identifying patients with similar symptoms will be helpfull for disease detection or to find cause."
   ]
  }
 ],
 "metadata": {
  "kernelspec": {
   "display_name": "pycaretenv",
   "language": "python",
   "name": "python3"
  },
  "language_info": {
   "codemirror_mode": {
    "name": "ipython",
    "version": 3
   },
   "file_extension": ".py",
   "mimetype": "text/x-python",
   "name": "python",
   "nbconvert_exporter": "python",
   "pygments_lexer": "ipython3",
   "version": "3.9.17"
  },
  "orig_nbformat": 4
 },
 "nbformat": 4,
 "nbformat_minor": 2
}
