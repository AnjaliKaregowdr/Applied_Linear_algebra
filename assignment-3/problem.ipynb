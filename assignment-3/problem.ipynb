{
 "cells": [
  {
   "cell_type": "code",
   "execution_count": 3,
   "metadata": {},
   "outputs": [],
   "source": [
    "#write a program that identifies top 3 pairs of movies that are very much alike\n",
    "\n",
    "import pandas as pd\n",
    "import numpy as np\n"
   ]
  },
  {
   "cell_type": "code",
   "execution_count": 5,
   "metadata": {},
   "outputs": [
    {
     "data": {
      "text/html": [
       "<div>\n",
       "<style scoped>\n",
       "    .dataframe tbody tr th:only-of-type {\n",
       "        vertical-align: middle;\n",
       "    }\n",
       "\n",
       "    .dataframe tbody tr th {\n",
       "        vertical-align: top;\n",
       "    }\n",
       "\n",
       "    .dataframe thead th {\n",
       "        text-align: right;\n",
       "    }\n",
       "</style>\n",
       "<table border=\"1\" class=\"dataframe\">\n",
       "  <thead>\n",
       "    <tr style=\"text-align: right;\">\n",
       "      <th></th>\n",
       "      <th>movie</th>\n",
       "      <th>review</th>\n",
       "    </tr>\n",
       "  </thead>\n",
       "  <tbody>\n",
       "    <tr>\n",
       "      <th>0</th>\n",
       "      <td>The Lord of the Rings The Two Towers</td>\n",
       "      <td>remarkable display of fantasy action powerful ...</td>\n",
       "    </tr>\n",
       "    <tr>\n",
       "      <th>1</th>\n",
       "      <td>Inception</td>\n",
       "      <td>implanting stealing idea destroy gripping acti...</td>\n",
       "    </tr>\n",
       "    <tr>\n",
       "      <th>2</th>\n",
       "      <td>Spiderman Across the spider verse</td>\n",
       "      <td>mind bending wild action sequences intimate em...</td>\n",
       "    </tr>\n",
       "    <tr>\n",
       "      <th>3</th>\n",
       "      <td>The Dark Knight</td>\n",
       "      <td>Best live action portrayal beat organized crim...</td>\n",
       "    </tr>\n",
       "    <tr>\n",
       "      <th>4</th>\n",
       "      <td>Three colors red</td>\n",
       "      <td>mesmerising friendship turned love profound un...</td>\n",
       "    </tr>\n",
       "  </tbody>\n",
       "</table>\n",
       "</div>"
      ],
      "text/plain": [
       "                                  movie  \\\n",
       "0  The Lord of the Rings The Two Towers   \n",
       "1                             Inception   \n",
       "2     Spiderman Across the spider verse   \n",
       "3                       The Dark Knight   \n",
       "4                      Three colors red   \n",
       "\n",
       "                                              review  \n",
       "0  remarkable display of fantasy action powerful ...  \n",
       "1  implanting stealing idea destroy gripping acti...  \n",
       "2  mind bending wild action sequences intimate em...  \n",
       "3  Best live action portrayal beat organized crim...  \n",
       "4  mesmerising friendship turned love profound un...  "
      ]
     },
     "execution_count": 5,
     "metadata": {},
     "output_type": "execute_result"
    }
   ],
   "source": [
    "# Read the movie review dataset\n",
    "data = pd.read_csv(\"moviereviews.csv\")\n",
    "data.head()"
   ]
  },
  {
   "cell_type": "code",
   "execution_count": 6,
   "metadata": {},
   "outputs": [],
   "source": [
    "\n",
    "all_words = set()\n",
    "for review in data['review']:\n",
    "    words = review.split()\n",
    "    all_words.update(words)\n",
    "\n",
    "# movie review vectors\n",
    "movie_vectors = {}\n",
    "\n",
    "for i, row in data.iterrows():\n",
    "    movie = row['movie']\n",
    "    review = row['review'].split()\n",
    "    review_vector = np.array([1 if word in review else 0 for word in all_words])\n",
    "    movie_vectors[movie] = review_vector"
   ]
  },
  {
   "cell_type": "code",
   "execution_count": 22,
   "metadata": {},
   "outputs": [
    {
     "name": "stdout",
     "output_type": "stream",
     "text": [
      "CPU times: total: 0 ns\n",
      "Wall time: 11 ms\n"
     ]
    }
   ],
   "source": [
    "%%time\n",
    "#using angle between vectors formula\n",
    "similarity_scores = []\n",
    "\n",
    "for movie1 in movie_vectors:\n",
    "    for movie2 in movie_vectors:\n",
    "        if movie1 != movie2:\n",
    "            vector1 = movie_vectors[movie1]\n",
    "            vector2 = movie_vectors[movie2]\n",
    "            cosine_similarity = np.dot(vector1, vector2) / (np.linalg.norm(vector1) * np.linalg.norm(vector2))\n",
    "            if (movie1, movie2) not in similarity_scores and (movie2, movie1) not in similarity_scores:\n",
    "                similarity_scores.append((movie1, movie2, cosine_similarity))\n",
    "\n",
    "similarity_scores.sort(key=lambda x: x[2], reverse=True)\n",
    "\n",
    "top_3_pairs = similarity_scores[:6]\n",
    "\n",
    "\n"
   ]
  },
  {
   "cell_type": "code",
   "execution_count": 18,
   "metadata": {},
   "outputs": [
    {
     "name": "stdout",
     "output_type": "stream",
     "text": [
      "The Lord of the Rings The Two Towers and Inception have an angle similarity of 0.26\n",
      "Inception and The Lord of the Rings The Two Towers have an angle similarity of 0.26\n",
      "It happened one night and Gone with the wind have an angle similarity of 0.18\n",
      "Gone with the wind and It happened one night have an angle similarity of 0.18\n",
      "It happened one night and Before Sunrise have an angle similarity of 0.17\n",
      "Before Sunrise and It happened one night have an angle similarity of 0.17\n"
     ]
    }
   ],
   "source": [
    "#top 3 similar movies using angle similarity\n",
    "for pair in top_3_pairs:\n",
    "    movie1, movie2, similarity = pair\n",
    "    print(f\"{movie1} and {movie2} have an angle similarity of {similarity:.2f}\")"
   ]
  },
  {
   "cell_type": "code",
   "execution_count": 23,
   "metadata": {},
   "outputs": [
    {
     "name": "stdout",
     "output_type": "stream",
     "text": [
      "CPU times: total: 0 ns\n",
      "Wall time: 5.02 ms\n"
     ]
    }
   ],
   "source": [
    "%%time\n",
    "# handcoded calculations\n",
    "similarity_scores = []\n",
    "\n",
    "for movie1 in movie_vectors:\n",
    "    for movie2 in movie_vectors:\n",
    "        if movie1 != movie2:\n",
    "            vector1 = movie_vectors[movie1]\n",
    "            vector2 = movie_vectors[movie2]\n",
    "            \n",
    "            dot_product = sum(v1 * v2 for v1, v2 in zip(vector1, vector2))\n",
    "            \n",
    "            mag1 = sum(v ** 2 for v in vector1) ** 0.5\n",
    "            mag2 = sum(v ** 2 for v in vector2) ** 0.5\n",
    "            \n",
    "            cosine_similarity = dot_product / (mag1 * mag2) if mag1 * mag2 != 0 else 0\n",
    "            \n",
    "            if (movie1, movie2) not in similarity_scores and (movie2, movie1) not in similarity_scores:\n",
    "                similarity_scores.append((movie1, movie2, cosine_similarity))\n",
    "\n",
    "similarity_scores.sort(key=lambda x: x[2], reverse=True)\n",
    "\n",
    "top_3_pairs = similarity_scores[:6]\n",
    "\n",
    "\n"
   ]
  },
  {
   "cell_type": "code",
   "execution_count": 21,
   "metadata": {},
   "outputs": [
    {
     "name": "stdout",
     "output_type": "stream",
     "text": [
      "The Lord of the Rings The Two Towers and Inception have a cosine similarity of 0.26\n",
      "Inception and The Lord of the Rings The Two Towers have a cosine similarity of 0.26\n",
      "It happened one night and Gone with the wind have a cosine similarity of 0.18\n",
      "Gone with the wind and It happened one night have a cosine similarity of 0.18\n",
      "It happened one night and Before Sunrise have a cosine similarity of 0.17\n",
      "Before Sunrise and It happened one night have a cosine similarity of 0.17\n"
     ]
    }
   ],
   "source": [
    "# Print top similar movies\n",
    "for pair in top_3_pairs:\n",
    "    movie1, movie2, similarity = pair\n",
    "    print(f\"{movie1} and {movie2} have a cosine similarity of {similarity:.2f}\")"
   ]
  },
  {
   "cell_type": "code",
   "execution_count": null,
   "metadata": {},
   "outputs": [],
   "source": []
  }
 ],
 "metadata": {
  "kernelspec": {
   "display_name": "pycaretenv",
   "language": "python",
   "name": "python3"
  },
  "language_info": {
   "codemirror_mode": {
    "name": "ipython",
    "version": 3
   },
   "file_extension": ".py",
   "mimetype": "text/x-python",
   "name": "python",
   "nbconvert_exporter": "python",
   "pygments_lexer": "ipython3",
   "version": "3.11.3"
  },
  "orig_nbformat": 4
 },
 "nbformat": 4,
 "nbformat_minor": 2
}
