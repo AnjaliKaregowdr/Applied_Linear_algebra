{
 "cells": [
  {
   "cell_type": "code",
   "execution_count": 3,
   "metadata": {},
   "outputs": [],
   "source": [
    "import numpy as np\n",
    "import pandas as pd\n",
    "import matplotlib.pyplot as plt"
   ]
  },
  {
   "cell_type": "code",
   "execution_count": null,
   "metadata": {},
   "outputs": [],
   "source": [
    "a = np.array([1,2,3])\n",
    "b = np.array([4,5,6])\n",
    "np.dot(a,b)"
   ]
  },
  {
   "cell_type": "code",
   "execution_count": null,
   "metadata": {},
   "outputs": [],
   "source": [
    "np.linalg.norm(a)"
   ]
  },
  {
   "cell_type": "code",
   "execution_count": null,
   "metadata": {},
   "outputs": [],
   "source": [
    "#Cauchy-Schwarz inequality \n",
    "np.dot(a,b) / (np.linalg.norm(a)*np.linalg.norm(b))"
   ]
  },
  {
   "cell_type": "code",
   "execution_count": 28,
   "metadata": {},
   "outputs": [
    {
     "data": {
      "text/plain": [
       "matrix([[ 1,  2, -1, -1],\n",
       "        [ 2,  4, -2,  3],\n",
       "        [-1,  1, -2,  4]])"
      ]
     },
     "execution_count": 28,
     "metadata": {},
     "output_type": "execute_result"
    }
   ],
   "source": [
    "np.matrix('1,2,-1,-1; 2,4,-2,3; -1,1,-2,4')"
   ]
  },
  {
   "cell_type": "markdown",
   "metadata": {},
   "source": [
    "MATRIX VECTOR MULTIPLICATION"
   ]
  },
  {
   "cell_type": "code",
   "execution_count": null,
   "metadata": {},
   "outputs": [],
   "source": [
    "A = np.array([[ 1,  2, -1, -1], [ 2,  4, -2,  3], [-1,  1, -2,  4]])\n",
    "print(A)\n",
    "print(A.shape)\n",
    "print(A[0])\n",
    "print(A[1])\n",
    "print(A[2])\n",
    "print(A[0].shape)"
   ]
  },
  {
   "cell_type": "code",
   "execution_count": null,
   "metadata": {},
   "outputs": [],
   "source": [
    "x = np.array([-1,1,1,0])\n",
    "print(x)\n",
    "print(np.dot(A,x))"
   ]
  },
  {
   "cell_type": "code",
   "execution_count": null,
   "metadata": {},
   "outputs": [],
   "source": [
    "#above [0,0,0] the rows of A is perpendicular to x"
   ]
  },
  {
   "cell_type": "markdown",
   "metadata": {},
   "source": [
    "TENSORS"
   ]
  },
  {
   "cell_type": "code",
   "execution_count": null,
   "metadata": {},
   "outputs": [],
   "source": [
    "T = np.array([[[74,128],[79,116],[71,116]],\n",
    "              [[18,118],[82,124],[72,128]],\n",
    "              [[84,138],[84,130],[74,120]],\n",
    "              [[82,126],[76,156],[82,132]]])\n",
    "print(T)\n",
    "print(T.shape)\n",
    "print(T[0])\n",
    "print(T[0][0])"
   ]
  },
  {
   "cell_type": "code",
   "execution_count": null,
   "metadata": {},
   "outputs": [],
   "source": [
    "#create x such that np.dot(T,x)\n",
    "x1 = np.array([1, 1])\n",
    "print(T)\n",
    "print(x)\n",
    "print(T.shape)\n",
    "print(x.shape)\n",
    "np.dot(T,x1)"
   ]
  },
  {
   "cell_type": "code",
   "execution_count": null,
   "metadata": {},
   "outputs": [],
   "source": [
    "T.reshape(3,2,4)"
   ]
  },
  {
   "cell_type": "markdown",
   "metadata": {},
   "source": [
    "Linear combination of column of matrix A\n"
   ]
  },
  {
   "cell_type": "code",
   "execution_count": null,
   "metadata": {},
   "outputs": [],
   "source": [
    "#Linear combination of column of matrix A\n",
    "print(A)\n",
    "print(x)\n",
    "print(np.dot(A,x))\n",
    "#np.matmul(A,x)\n",
    "print(A[:,0]*x[0] + A[:,1]*x[1] + A[:,2]*x[2] + A[:,3]*x[3])    #linear combination of column and matrix, instead of typing this \n",
    "np.sum(x[range(4)] * A[ :, range(4)])"
   ]
  },
  {
   "cell_type": "code",
   "execution_count": 18,
   "metadata": {},
   "outputs": [],
   "source": [
    "#4 timestamps, 3 patients, 2 features\n",
    "T = np.array([[[74,128],[79,116],[71,116]],\n",
    "              [[78,118],[82,124],[72,128]],\n",
    "              [[84,138],[84,130],[74,120]],\n",
    "              [[82,126],[76,156],[82,132]]])"
   ]
  },
  {
   "cell_type": "markdown",
   "metadata": {},
   "source": [
    "(1) 0th axis of size 3 corresponded to patients;\n",
    "\n",
    "(2) 1st axis of size 4 corresponded to time stamps;\n",
    "\n",
    "(3) 2nd axis of size 2 corresponded to features.\n",
    "\n",
    "What does the output of T_reshaped[0] indicate now? \n",
    "\n",
    "What does the output of T_reshaped[:, :, 1] \n",
    "indicate?"
   ]
  },
  {
   "cell_type": "code",
   "execution_count": 19,
   "metadata": {},
   "outputs": [
    {
     "data": {
      "text/plain": [
       "array([[[ 74,  78,  84,  82],\n",
       "        [128, 118, 138, 126]],\n",
       "\n",
       "       [[ 79,  82,  84,  76],\n",
       "        [116, 124, 130, 156]],\n",
       "\n",
       "       [[ 71,  72,  74,  82],\n",
       "        [116, 128, 120, 132]]])"
      ]
     },
     "execution_count": 19,
     "metadata": {},
     "output_type": "execute_result"
    }
   ],
   "source": [
    "T_reshaped = T.transpose(1,2,0)    #(3,2,4)  \n",
    "T_reshaped"
   ]
  },
  {
   "cell_type": "code",
   "execution_count": 20,
   "metadata": {},
   "outputs": [
    {
     "data": {
      "text/plain": [
       "array([[ 74,  78,  84,  82],\n",
       "       [128, 118, 138, 126]])"
      ]
     },
     "execution_count": 20,
     "metadata": {},
     "output_type": "execute_result"
    }
   ],
   "source": [
    "T_reshaped[0]   #0th patient's information across all features and time stamps "
   ]
  },
  {
   "cell_type": "code",
   "execution_count": 21,
   "metadata": {},
   "outputs": [
    {
     "data": {
      "text/plain": [
       "array([[ 78, 118],\n",
       "       [ 82, 124],\n",
       "       [ 72, 128]])"
      ]
     },
     "execution_count": 21,
     "metadata": {},
     "output_type": "execute_result"
    }
   ],
   "source": [
    "T_reshaped[:, :, 1]    #1st timestamps value for all patients and features"
   ]
  },
  {
   "cell_type": "code",
   "execution_count": null,
   "metadata": {},
   "outputs": [],
   "source": [
    "#transpose : realign\n",
    "#reshape : to change structure"
   ]
  },
  {
   "cell_type": "code",
   "execution_count": 25,
   "metadata": {},
   "outputs": [
    {
     "data": {
      "text/plain": [
       "array([[[ 74,  79,  71],\n",
       "        [ 78,  82,  72],\n",
       "        [ 84,  84,  74],\n",
       "        [ 82,  76,  82]],\n",
       "\n",
       "       [[128, 116, 116],\n",
       "        [118, 124, 128],\n",
       "        [138, 130, 120],\n",
       "        [126, 156, 132]]])"
      ]
     },
     "execution_count": 25,
     "metadata": {},
     "output_type": "execute_result"
    }
   ],
   "source": [
    "T_reshaped = T.transpose(2,0,1)  #features, timestamps, patients\n",
    "T_reshaped\n"
   ]
  },
  {
   "cell_type": "code",
   "execution_count": 26,
   "metadata": {},
   "outputs": [
    {
     "data": {
      "text/plain": [
       "array([[74, 79, 71],\n",
       "       [78, 82, 72],\n",
       "       [84, 84, 74],\n",
       "       [82, 76, 82]])"
      ]
     },
     "execution_count": 26,
     "metadata": {},
     "output_type": "execute_result"
    }
   ],
   "source": [
    "T_reshaped[0]"
   ]
  },
  {
   "cell_type": "code",
   "execution_count": 27,
   "metadata": {},
   "outputs": [
    {
     "data": {
      "text/plain": [
       "array([[ 84,  84,  74],\n",
       "       [138, 130, 120]])"
      ]
     },
     "execution_count": 27,
     "metadata": {},
     "output_type": "execute_result"
    }
   ],
   "source": [
    "T_reshaped[:,2,:]"
   ]
  },
  {
   "cell_type": "code",
   "execution_count": 30,
   "metadata": {},
   "outputs": [
    {
     "data": {
      "text/plain": [
       "matrix([[1, 2, 3],\n",
       "        [4, 5, 6]])"
      ]
     },
     "execution_count": 30,
     "metadata": {},
     "output_type": "execute_result"
    }
   ],
   "source": [
    "A = np.matrix('1,2,3; 4,5,6')\n",
    "A"
   ]
  },
  {
   "cell_type": "code",
   "execution_count": 32,
   "metadata": {},
   "outputs": [
    {
     "data": {
      "text/plain": [
       "matrix([[ 7, 10],\n",
       "        [ 8, 11],\n",
       "        [ 9, 12]])"
      ]
     },
     "execution_count": 32,
     "metadata": {},
     "output_type": "execute_result"
    }
   ],
   "source": [
    "B = np.matrix('7,10; 8,11; 9,12')\n",
    "B"
   ]
  },
  {
   "cell_type": "code",
   "execution_count": 33,
   "metadata": {},
   "outputs": [
    {
     "data": {
      "text/plain": [
       "matrix([[ 50,  68],\n",
       "        [122, 167]])"
      ]
     },
     "execution_count": 33,
     "metadata": {},
     "output_type": "execute_result"
    }
   ],
   "source": [
    "np.matmul(A,B)"
   ]
  },
  {
   "cell_type": "code",
   "execution_count": 43,
   "metadata": {},
   "outputs": [
    {
     "name": "stdout",
     "output_type": "stream",
     "text": [
      "[[0 1]\n",
      " [1 1]]\n",
      "[[[128 202]\n",
      "  [116 195]\n",
      "  [116 187]]\n",
      "\n",
      " [[118 196]\n",
      "  [124 206]\n",
      "  [128 200]]\n",
      "\n",
      " [[138 222]\n",
      "  [130 214]\n",
      "  [120 194]]\n",
      "\n",
      " [[126 208]\n",
      "  [156 232]\n",
      "  [132 214]]]\n",
      "(4, 3, 2)\n",
      "(2, 2)\n"
     ]
    }
   ],
   "source": [
    "#Tensor matrix product\n",
    "T = np.array([[[74,128],[79,116],[71,116]],\n",
    "              [[78,118],[82,124],[72,128]],\n",
    "              [[84,138],[84,130],[74,120]],\n",
    "              [[82,126],[76,156],[82,132]]])\n",
    "\n",
    "X = np.array([[0,1],[1,1]])\n",
    "print(X)\n",
    "print(np.dot(T,X))   \n",
    "print(T.shape)\n",
    "print(X.shape)"
   ]
  },
  {
   "cell_type": "code",
   "execution_count": 47,
   "metadata": {},
   "outputs": [
    {
     "ename": "ValueError",
     "evalue": "shapes (4,3,2) and (3,3,2) not aligned: 2 (dim 2) != 3 (dim 1)",
     "output_type": "error",
     "traceback": [
      "\u001b[1;31m---------------------------------------------------------------------------\u001b[0m",
      "\u001b[1;31mValueError\u001b[0m                                Traceback (most recent call last)",
      "\u001b[1;32mc:\\Users\\MSIS\\Desktop\\ALAlab\\ALA_BOOTCAMP\\ALA_bootcamp.ipynb Cell 29\u001b[0m line \u001b[0;36m9\n\u001b[0;32m      <a href='vscode-notebook-cell:/c%3A/Users/MSIS/Desktop/ALAlab/ALA_BOOTCAMP/ALA_bootcamp.ipynb#X40sZmlsZQ%3D%3D?line=4'>5</a>\u001b[0m T2 \u001b[39m=\u001b[39m np\u001b[39m.\u001b[39marray([[[\u001b[39m1\u001b[39m,\u001b[39m1\u001b[39m],[\u001b[39m1\u001b[39m,\u001b[39m1\u001b[39m],[\u001b[39m1\u001b[39m,\u001b[39m1\u001b[39m]],\n\u001b[0;32m      <a href='vscode-notebook-cell:/c%3A/Users/MSIS/Desktop/ALAlab/ALA_BOOTCAMP/ALA_bootcamp.ipynb#X40sZmlsZQ%3D%3D?line=5'>6</a>\u001b[0m               [[\u001b[39m1\u001b[39m,\u001b[39m1\u001b[39m],[\u001b[39m1\u001b[39m,\u001b[39m1\u001b[39m],[\u001b[39m1\u001b[39m,\u001b[39m1\u001b[39m]],\n\u001b[0;32m      <a href='vscode-notebook-cell:/c%3A/Users/MSIS/Desktop/ALAlab/ALA_BOOTCAMP/ALA_bootcamp.ipynb#X40sZmlsZQ%3D%3D?line=6'>7</a>\u001b[0m               [[\u001b[39m1\u001b[39m,\u001b[39m1\u001b[39m],[\u001b[39m1\u001b[39m,\u001b[39m1\u001b[39m],[\u001b[39m1\u001b[39m,\u001b[39m1\u001b[39m]]])\n\u001b[0;32m      <a href='vscode-notebook-cell:/c%3A/Users/MSIS/Desktop/ALAlab/ALA_BOOTCAMP/ALA_bootcamp.ipynb#X40sZmlsZQ%3D%3D?line=7'>8</a>\u001b[0m T2\u001b[39m.\u001b[39mshape\n\u001b[1;32m----> <a href='vscode-notebook-cell:/c%3A/Users/MSIS/Desktop/ALAlab/ALA_BOOTCAMP/ALA_bootcamp.ipynb#X40sZmlsZQ%3D%3D?line=8'>9</a>\u001b[0m \u001b[39mprint\u001b[39m(np\u001b[39m.\u001b[39;49mdot(T1,T2))\n",
      "File \u001b[1;32m<__array_function__ internals>:180\u001b[0m, in \u001b[0;36mdot\u001b[1;34m(*args, **kwargs)\u001b[0m\n",
      "\u001b[1;31mValueError\u001b[0m: shapes (4,3,2) and (3,3,2) not aligned: 2 (dim 2) != 3 (dim 1)"
     ]
    }
   ],
   "source": [
    "T1 = np.array([[[74,128],[79,116],[71,116]],\n",
    "              [[78,118],[82,124],[72,128]],\n",
    "              [[84,138],[84,130],[74,120]],\n",
    "              [[82,126],[76,156],[82,132]]])\n",
    "T2 = np.array([[[1,1],[1,1],[1,1]],\n",
    "              [[1,1],[1,1],[1,1]],\n",
    "              [[1,1],[1,1],[1,1]]])\n",
    "T2.shape\n",
    "print(np.dot(T1,T2))"
   ]
  }
 ],
 "metadata": {
  "kernelspec": {
   "display_name": "quickstart",
   "language": "python",
   "name": "python3"
  },
  "language_info": {
   "codemirror_mode": {
    "name": "ipython",
    "version": 3
   },
   "file_extension": ".py",
   "mimetype": "text/x-python",
   "name": "python",
   "nbconvert_exporter": "python",
   "pygments_lexer": "ipython3",
   "version": "3.9.17"
  },
  "orig_nbformat": 4
 },
 "nbformat": 4,
 "nbformat_minor": 2
}
