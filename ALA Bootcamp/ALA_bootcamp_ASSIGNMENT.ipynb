{
 "cells": [
  {
   "cell_type": "code",
   "execution_count": 2,
   "metadata": {},
   "outputs": [],
   "source": [
    "import numpy as np\n",
    "import pandas as pd\n",
    "import matplotlib.pyplot as plt"
   ]
  },
  {
   "cell_type": "code",
   "execution_count": 3,
   "metadata": {},
   "outputs": [
    {
     "data": {
      "text/plain": [
       "32"
      ]
     },
     "execution_count": 3,
     "metadata": {},
     "output_type": "execute_result"
    }
   ],
   "source": [
    "a = np.array([1,2,3])\n",
    "b = np.array([4,5,6])\n",
    "np.dot(a,b)"
   ]
  },
  {
   "cell_type": "code",
   "execution_count": 4,
   "metadata": {},
   "outputs": [
    {
     "data": {
      "text/plain": [
       "3.7416573867739413"
      ]
     },
     "execution_count": 4,
     "metadata": {},
     "output_type": "execute_result"
    }
   ],
   "source": [
    "np.linalg.norm(a)"
   ]
  },
  {
   "cell_type": "code",
   "execution_count": 5,
   "metadata": {},
   "outputs": [
    {
     "data": {
      "text/plain": [
       "0.9746318461970762"
      ]
     },
     "execution_count": 5,
     "metadata": {},
     "output_type": "execute_result"
    }
   ],
   "source": [
    "#Cauchy-Schwarz inequality \n",
    "np.dot(a,b) / (np.linalg.norm(a)*np.linalg.norm(b))"
   ]
  },
  {
   "cell_type": "code",
   "execution_count": 7,
   "metadata": {},
   "outputs": [
    {
     "data": {
      "text/plain": [
       "matrix([[ 1,  2, -1, -1],\n",
       "        [ 2,  4, -2,  3],\n",
       "        [-1,  1, -2,  4]])"
      ]
     },
     "execution_count": 7,
     "metadata": {},
     "output_type": "execute_result"
    }
   ],
   "source": [
    "np.matrix('1,2,-1,-1; 2,4,-2,3; -1,1,-2,4')"
   ]
  },
  {
   "cell_type": "markdown",
   "metadata": {},
   "source": [
    "MATRIX VECTOR MULTIPLICATION"
   ]
  },
  {
   "cell_type": "code",
   "execution_count": 15,
   "metadata": {},
   "outputs": [
    {
     "name": "stdout",
     "output_type": "stream",
     "text": [
      "[[ 1  2 -1 -1]\n",
      " [ 2  4 -2  3]\n",
      " [-1  1 -2  4]]\n",
      "(3, 4)\n",
      "[ 1  2 -1 -1]\n",
      "[ 2  4 -2  3]\n",
      "[-1  1 -2  4]\n",
      "(4,)\n"
     ]
    }
   ],
   "source": [
    "A = np.array([[ 1,  2, -1, -1], [ 2,  4, -2,  3], [-1,  1, -2,  4]])\n",
    "print(A)\n",
    "print(A.shape)\n",
    "print(A[0])\n",
    "print(A[1])\n",
    "print(A[2])\n",
    "print(A[0].shape)"
   ]
  },
  {
   "cell_type": "code",
   "execution_count": 43,
   "metadata": {},
   "outputs": [
    {
     "name": "stdout",
     "output_type": "stream",
     "text": [
      "[-1  1  1  0]\n",
      "[0 0 0]\n"
     ]
    }
   ],
   "source": [
    "x = np.array([-1,1,1,0])\n",
    "print(x)\n",
    "print(np.dot(A,x))"
   ]
  },
  {
   "cell_type": "code",
   "execution_count": null,
   "metadata": {},
   "outputs": [],
   "source": [
    "#above [0,0,0] the rows of A is perpendicular to x"
   ]
  },
  {
   "cell_type": "markdown",
   "metadata": {},
   "source": [
    "TENSORS"
   ]
  },
  {
   "cell_type": "code",
   "execution_count": 23,
   "metadata": {},
   "outputs": [
    {
     "name": "stdout",
     "output_type": "stream",
     "text": [
      "[[[ 74 128]\n",
      "  [ 79 116]\n",
      "  [ 71 116]]\n",
      "\n",
      " [[ 18 118]\n",
      "  [ 82 124]\n",
      "  [ 72 128]]\n",
      "\n",
      " [[ 84 138]\n",
      "  [ 84 130]\n",
      "  [ 74 120]]\n",
      "\n",
      " [[ 82 126]\n",
      "  [ 76 156]\n",
      "  [ 82 132]]]\n",
      "(4, 3, 2)\n",
      "[[ 74 128]\n",
      " [ 79 116]\n",
      " [ 71 116]]\n",
      "[ 74 128]\n"
     ]
    }
   ],
   "source": [
    "T = np.array([[[74,128],[79,116],[71,116]],\n",
    "              [[18,118],[82,124],[72,128]],\n",
    "              [[84,138],[84,130],[74,120]],\n",
    "              [[82,126],[76,156],[82,132]]])\n",
    "print(T)\n",
    "print(T.shape)\n",
    "print(T[0])\n",
    "print(T[0][0])"
   ]
  },
  {
   "cell_type": "code",
   "execution_count": 40,
   "metadata": {},
   "outputs": [
    {
     "name": "stdout",
     "output_type": "stream",
     "text": [
      "[[[ 74 128]\n",
      "  [ 79 116]\n",
      "  [ 71 116]]\n",
      "\n",
      " [[ 18 118]\n",
      "  [ 82 124]\n",
      "  [ 72 128]]\n",
      "\n",
      " [[ 84 138]\n",
      "  [ 84 130]\n",
      "  [ 74 120]]\n",
      "\n",
      " [[ 82 126]\n",
      "  [ 76 156]\n",
      "  [ 82 132]]]\n",
      "[1 1]\n",
      "(4, 3, 2)\n",
      "(2,)\n"
     ]
    },
    {
     "data": {
      "text/plain": [
       "array([[202, 195, 187],\n",
       "       [136, 206, 200],\n",
       "       [222, 214, 194],\n",
       "       [208, 232, 214]])"
      ]
     },
     "execution_count": 40,
     "metadata": {},
     "output_type": "execute_result"
    }
   ],
   "source": [
    "#create x such that np.dot(T,x)\n",
    "x1 = np.array([1, 1])\n",
    "print(T)\n",
    "print(x)\n",
    "print(T.shape)\n",
    "print(x.shape)\n",
    "np.dot(T,x1)"
   ]
  },
  {
   "cell_type": "code",
   "execution_count": 41,
   "metadata": {},
   "outputs": [
    {
     "data": {
      "text/plain": [
       "array([[[ 74, 128,  79, 116],\n",
       "        [ 71, 116,  18, 118]],\n",
       "\n",
       "       [[ 82, 124,  72, 128],\n",
       "        [ 84, 138,  84, 130]],\n",
       "\n",
       "       [[ 74, 120,  82, 126],\n",
       "        [ 76, 156,  82, 132]]])"
      ]
     },
     "execution_count": 41,
     "metadata": {},
     "output_type": "execute_result"
    }
   ],
   "source": [
    "T.reshape(3,2,4)"
   ]
  },
  {
   "cell_type": "markdown",
   "metadata": {},
   "source": [
    "Linear combination of column of matrix A\n"
   ]
  },
  {
   "cell_type": "code",
   "execution_count": 53,
   "metadata": {},
   "outputs": [
    {
     "name": "stdout",
     "output_type": "stream",
     "text": [
      "[[ 1  2 -1 -1]\n",
      " [ 2  4 -2  3]\n",
      " [-1  1 -2  4]]\n",
      "[-1  1  1  0]\n",
      "[0 0 0]\n",
      "[0 0 0]\n"
     ]
    },
    {
     "data": {
      "text/plain": [
       "0"
      ]
     },
     "execution_count": 53,
     "metadata": {},
     "output_type": "execute_result"
    }
   ],
   "source": [
    "#Linear combination of column of matrix A\n",
    "print(A)\n",
    "print(x)\n",
    "print(np.dot(A,x))\n",
    "#np.matmul(A,x)\n",
    "print(A[:,0]*x[0] + A[:,1]*x[1] + A[:,2]*x[2] + A[:,3]*x[3])    #linear combination of column and matrix, instead of typing this \n",
    "np.sum(x[range(4)] * A[ :, range(4)])"
   ]
  }
 ],
 "metadata": {
  "kernelspec": {
   "display_name": "quickstart",
   "language": "python",
   "name": "python3"
  },
  "language_info": {
   "codemirror_mode": {
    "name": "ipython",
    "version": 3
   },
   "file_extension": ".py",
   "mimetype": "text/x-python",
   "name": "python",
   "nbconvert_exporter": "python",
   "pygments_lexer": "ipython3",
   "version": "3.9.17"
  },
  "orig_nbformat": 4
 },
 "nbformat": 4,
 "nbformat_minor": 2
}
